{
  "cells": [
    {
      "cell_type": "markdown",
      "metadata": {
        "id": "0Gwp5PoTH5Sw"
      },
      "source": [
        "#Tugas Akhir Data Mining : Customer Personality Analysis"
      ]
    },
    {
      "cell_type": "markdown",
      "metadata": {
        "id": "iThtNbAnIQwf"
      },
      "source": [
        "##Import Packages yang Akan Digunakan\n",
        "\n",
        "1. pandas\n",
        "2. matlplotlib.pyplot dan seaborn\n",
        "3. numpy\n",
        "4. sklearn"
      ]
    },
    {
      "cell_type": "code",
      "execution_count": null,
      "metadata": {
        "colab": {
          "base_uri": "https://localhost:8080/",
          "height": 85
        },
        "id": "Bn3RRMQWGcFS",
        "outputId": "88fc8a3c-6e90-4061-faa5-3fb3f5e4f002"
      },
      "outputs": [
        {
          "output_type": "display_data",
          "data": {
            "text/plain": [
              "<Figure size 360x72 with 1 Axes>"
            ],
            "image/png": "[encoded data removed]"
          },
          "metadata": {
            "needs_background": "light"
          }
        }
      ],
      "source": [
        "import pandas as pd\n",
        "import matplotlib.pyplot as plt\n",
        "import seaborn as sns\n",
        "import warnings\n",
        "import numpy as np\n",
        "from sklearn.impute import KNNImputer\n",
        "from collections import Counter\n",
        "from sklearn.cluster import KMeans\n",
        "from sklearn.decomposition import PCA\n",
        "warnings.filterwarnings('ignore')\n",
        "colors_nude = ['#4b296b','#4c2c72','#77867f','#87b37a','#9ce37d']\n",
        "sns.palplot(sns.color_palette(colors_nude))\n",
        "\n",
        "sns.set_style(\"whitegrid\")\n",
        "sns.despine(left=True, bottom=True)"
      ]
    },
    {
      "cell_type": "markdown",
      "metadata": {
        "id": "9XEAx6qEK_3_"
      },
      "source": [
        "##Load Data"
      ]
    },
    {
      "cell_type": "code",
      "execution_count": null,
      "metadata": {
        "id": "VsQTXmwYK4ky"
      },
      "outputs": [],
      "source": [
        "df = pd.read_csv(r'marketing_campaign.csv', delimiter='\\t' , parse_dates=['Year_Birth' , 'Dt_Customer'])"
      ]
    },
    {
      "cell_type": "markdown",
      "metadata": {
        "id": "cRU48rzYxJwp"
      },
      "source": [
        "## Preprocessing Data"
      ]
    },
    {
      "cell_type": "markdown",
      "metadata": {
        "id": "rAedVsZ-EJyL"
      },
      "source": [
        "## Data Understanding"
      ]
    },
    {
      "cell_type": "code",
      "execution_count": null,
      "metadata": {
        "id": "9Nc6hpMxxQnc",
        "colab": {
          "base_uri": "https://localhost:8080/",
          "height": 770
        },
        "outputId": "7c42c9a9-f6d5-460a-a88e-d8a170040b77"
      },
      "outputs": [
        {
          "output_type": "execute_result",
          "data": {
            "text/plain": [
              "      ID Year_Birth   Education Marital_Status   Income  Kidhome  Teenhome  \\\n",
              "0   5524 1957-01-01  Graduation         Single  58138.0        0         0   \n",
              "1   2174 1954-01-01  Graduation         Single  46344.0        1         1   \n",
              "2   4141 1965-01-01  Graduation       Together  71613.0        0         0   \n",
              "3   6182 1984-01-01  Graduation       Together  26646.0        1         0   \n",
              "4   5324 1981-01-01         PhD        Married  58293.0        1         0   \n",
              "5   7446 1967-01-01      Master       Together  62513.0        0         1   \n",
              "6    965 1971-01-01  Graduation       Divorced  55635.0        0         1   \n",
              "7   6177 1985-01-01         PhD        Married  33454.0        1         0   \n",
              "8   4855 1974-01-01         PhD       Together  30351.0        1         0   \n",
              "9   5899 1950-01-01         PhD       Together   5648.0        1         1   \n",
              "10  1994 1983-01-01  Graduation        Married      NaN        1         0   \n",
              "11   387 1976-01-01       Basic        Married   7500.0        0         0   \n",
              "12  2125 1959-01-01  Graduation       Divorced  63033.0        0         0   \n",
              "13  8180 1952-01-01      Master       Divorced  59354.0        1         1   \n",
              "14  2569 1987-01-01  Graduation        Married  17323.0        0         0   \n",
              "15  2114 1946-01-01         PhD         Single  82800.0        0         0   \n",
              "16  9736 1980-01-01  Graduation        Married  41850.0        1         1   \n",
              "17  4939 1946-01-01  Graduation       Together  37760.0        0         0   \n",
              "18  6565 1949-01-01      Master        Married  76995.0        0         1   \n",
              "19  2278 1985-01-01    2n Cycle         Single  33812.0        1         0   \n",
              "\n",
              "   Dt_Customer  Recency  MntWines  ...  NumWebVisitsMonth  AcceptedCmp3  \\\n",
              "0   2012-04-09       58       635  ...                  7             0   \n",
              "1   2014-08-03       38        11  ...                  5             0   \n",
              "2   2013-08-21       26       426  ...                  4             0   \n",
              "3   2014-10-02       26        11  ...                  6             0   \n",
              "4   2014-01-19       94       173  ...                  5             0   \n",
              "5   2013-09-09       16       520  ...                  6             0   \n",
              "6   2012-11-13       34       235  ...                  6             0   \n",
              "7   2013-08-05       32        76  ...                  8             0   \n",
              "8   2013-06-06       19        14  ...                  9             0   \n",
              "9   2014-03-13       68        28  ...                 20             1   \n",
              "10  2013-11-15       11         5  ...                  7             0   \n",
              "11  2012-11-13       59         6  ...                  8             0   \n",
              "12  2013-11-15       82       194  ...                  2             0   \n",
              "13  2013-11-15       53       233  ...                  6             0   \n",
              "14  2012-10-10       38         3  ...                  8             0   \n",
              "15  2012-11-24       23      1006  ...                  3             0   \n",
              "16  2012-12-24       51        53  ...                  8             0   \n",
              "17  2012-08-31       20        84  ...                  7             0   \n",
              "18  2013-03-28       91      1012  ...                  5             0   \n",
              "19  2012-03-11       86         4  ...                  6             0   \n",
              "\n",
              "    AcceptedCmp4  AcceptedCmp5  AcceptedCmp1  AcceptedCmp2  Complain  \\\n",
              "0              0             0             0             0         0   \n",
              "1              0             0             0             0         0   \n",
              "2              0             0             0             0         0   \n",
              "3              0             0             0             0         0   \n",
              "4              0             0             0             0         0   \n",
              "5              0             0             0             0         0   \n",
              "6              0             0             0             0         0   \n",
              "7              0             0             0             0         0   \n",
              "8              0             0             0             0         0   \n",
              "9              0             0             0             0         0   \n",
              "10             0             0             0             0         0   \n",
              "11             0             0             0             0         0   \n",
              "12             0             0             0             0         0   \n",
              "13             0             0             0             0         0   \n",
              "14             0             0             0             0         0   \n",
              "15             0             1             1             0         0   \n",
              "16             0             0             0             0         0   \n",
              "17             0             0             0             0         0   \n",
              "18             0             0             1             0         0   \n",
              "19             0             0             0             0         0   \n",
              "\n",
              "    Z_CostContact  Z_Revenue  Response  \n",
              "0               3         11         1  \n",
              "1               3         11         0  \n",
              "2               3         11         0  \n",
              "3               3         11         0  \n",
              "4               3         11         0  \n",
              "5               3         11         0  \n",
              "6               3         11         0  \n",
              "7               3         11         0  \n",
              "8               3         11         1  \n",
              "9               3         11         0  \n",
              "10              3         11         0  \n",
              "11              3         11         0  \n",
              "12              3         11         0  \n",
              "13              3         11         0  \n",
              "14              3         11         0  \n",
              "15              3         11         1  \n",
              "16              3         11         0  \n",
              "17              3         11         0  \n",
              "18              3         11         0  \n",
              "19              3         11         0  \n",
              "\n",
              "[20 rows x 29 columns]"
            ],
            "text/html": [
              "\n",
              "  <div id=\"df-99408a16-ec16-4eed-8c73-bf2288524e68\">\n",
              "    <div class=\"colab-df-container\">\n",
              "      <div>\n",
              "<style scoped>\n",
              "    .dataframe tbody tr th:only-of-type {\n",
              "        vertical-align: middle;\n",
              "    }\n",
              "\n",
              "    .dataframe tbody tr th {\n",
              "        vertical-align: top;\n",
              "    }\n",
              "\n",
              "    .dataframe thead th {\n",
              "        text-align: right;\n",
              "    }\n",
              "</style>\n",
              "<table border=\"1\" class=\"dataframe\">\n",
              "  <thead>\n",
              "    <tr style=\"text-align: right;\">\n",
              "      <th></th>\n",
              "      <th>ID</th>\n",
              "      <th>Year_Birth</th>\n",
              "      <th>Education</th>\n",
              "      <th>Marital_Status</th>\n",
              "      <th>Income</th>\n",
              "      <th>Kidhome</th>\n",
              "      <th>Teenhome</th>\n",
              "      <th>Dt_Customer</th>\n",
              "      <th>Recency</th>\n",
              "      <th>MntWines</th>\n",
              "      <th>...</th>\n",
              "      <th>NumWebVisitsMonth</th>\n",
              "      <th>AcceptedCmp3</th>\n",
              "      <th>AcceptedCmp4</th>\n",
              "      <th>AcceptedCmp5</th>\n",
              "      <th>AcceptedCmp1</th>\n",
              "      <th>AcceptedCmp2</th>\n",
              "      <th>Complain</th>\n",
              "      <th>Z_CostContact</th>\n",
              "      <th>Z_Revenue</th>\n",
              "      <th>Response</th>\n",
              "    </tr>\n",
              "  </thead>\n",
              "  <tbody>\n",
              "    <tr>\n",
              "      <th>0</th>\n",
              "      <td>5524</td>\n",
              "      <td>1957-01-01</td>\n",
              "      <td>Graduation</td>\n",
              "      <td>Single</td>\n",
              "      <td>58138.0</td>\n",
              "      <td>0</td>\n",
              "      <td>0</td>\n",
              "      <td>2012-04-09</td>\n",
              "      <td>58</td>\n",
              "      <td>635</td>\n",
              "      <td>...</td>\n",
              "      <td>7</td>\n",
              "      <td>0</td>\n",
              "      <td>0</td>\n",
              "      <td>0</td>\n",
              "      <td>0</td>\n",
              "      <td>0</td>\n",
              "      <td>0</td>\n",
              "      <td>3</td>\n",
              "      <td>11</td>\n",
              "      <td>1</td>\n",
              "    </tr>\n",
              "    <tr>\n",
              "      <th>1</th>\n",
              "      <td>2174</td>\n",
              "      <td>1954-01-01</td>\n",
              "      <td>Graduation</td>\n",
              "      <td>Single</td>\n",
              "      <td>46344.0</td>\n",
              "      <td>1</td>\n",
              "      <td>1</td>\n",
              "      <td>2014-08-03</td>\n",
              "      <td>38</td>\n",
              "      <td>11</td>\n",
              "      <td>...</td>\n",
              "      <td>5</td>\n",
              "      <td>0</td>\n",
              "      <td>0</td>\n",
              "      <td>0</td>\n",
              "      <td>0</td>\n",
              "      <td>0</td>\n",
              "      <td>0</td>\n",
              "      <td>3</td>\n",
              "      <td>11</td>\n",
              "      <td>0</td>\n",
              "    </tr>\n",
              "    <tr>\n",
              "      <th>2</th>\n",
              "      <td>4141</td>\n",
              "      <td>1965-01-01</td>\n",
              "      <td>Graduation</td>\n",
              "      <td>Together</td>\n",
              "      <td>71613.0</td>\n",
              "      <td>0</td>\n",
              "      <td>0</td>\n",
              "      <td>2013-08-21</td>\n",
              "      <td>26</td>\n",
              "      <td>426</td>\n",
              "      <td>...</td>\n",
              "      <td>4</td>\n",
              "      <td>0</td>\n",
              "      <td>0</td>\n",
              "      <td>0</td>\n",
              "      <td>0</td>\n",
              "      <td>0</td>\n",
              "      <td>0</td>\n",
              "      <td>3</td>\n",
              "      <td>11</td>\n",
              "      <td>0</td>\n",
              "    </tr>\n",
              "    <tr>\n",
              "      <th>3</th>\n",
              "      <td>6182</td>\n",
              "      <td>1984-01-01</td>\n",
              "      <td>Graduation</td>\n",
              "      <td>Together</td>\n",
              "      <td>26646.0</td>\n",
              "      <td>1</td>\n",
              "      <td>0</td>\n",
              "      <td>2014-10-02</td>\n",
              "      <td>26</td>\n",
              "      <td>11</td>\n",
              "      <td>...</td>\n",
              "      <td>6</td>\n",
              "      <td>0</td>\n",
              "      <td>0</td>\n",
              "      <td>0</td>\n",
              "      <td>0</td>\n",
              "      <td>0</td>\n",
              "      <td>0</td>\n",
              "      <td>3</td>\n",
              "      <td>11</td>\n",
              "      <td>0</td>\n",
              "    </tr>\n",
              "    <tr>\n",
              "      <th>4</th>\n",
              "      <td>5324</td>\n",
              "      <td>1981-01-01</td>\n",
              "      <td>PhD</td>\n",
              "      <td>Married</td>\n",
              "      <td>58293.0</td>\n",
              "      <td>1</td>\n",
              "      <td>0</td>\n",
              "      <td>2014-01-19</td>\n",
              "      <td>94</td>\n",
              "      <td>173</td>\n",
              "      <td>...</td>\n",
              "      <td>5</td>\n",
              "      <td>0</td>\n",
              "      <td>0</td>\n",
              "      <td>0</td>\n",
              "      <td>0</td>\n",
              "      <td>0</td>\n",
              "      <td>0</td>\n",
              "      <td>3</td>\n",
              "      <td>11</td>\n",
              "      <td>0</td>\n",
              "    </tr>\n",
              "    <tr>\n",
              "      <th>5</th>\n",
              "      <td>7446</td>\n",
              "      <td>1967-01-01</td>\n",
              "      <td>Master</td>\n",
              "      <td>Together</td>\n",
              "      <td>62513.0</td>\n",
              "      <td>0</td>\n",
              "      <td>1</td>\n",
              "      <td>2013-09-09</td>\n",
              "      <td>16</td>\n",
              "      <td>520</td>\n",
              "      <td>...</td>\n",
              "      <td>6</td>\n",
              "      <td>0</td>\n",
              "      <td>0</td>\n",
              "      <td>0</td>\n",
              "      <td>0</td>\n",
              "      <td>0</td>\n",
              "      <td>0</td>\n",
              "      <td>3</td>\n",
              "      <td>11</td>\n",
              "      <td>0</td>\n",
              "    </tr>\n",
              "    <tr>\n",
              "      <th>6</th>\n",
              "      <td>965</td>\n",
              "      <td>1971-01-01</td>\n",
              "      <td>Graduation</td>\n",
              "      <td>Divorced</td>\n",
              "      <td>55635.0</td>\n",
              "      <td>0</td>\n",
              "      <td>1</td>\n",
              "      <td>2012-11-13</td>\n",
              "      <td>34</td>\n",
              "      <td>235</td>\n",
              "      <td>...</td>\n",
              "      <td>6</td>\n",
              "      <td>0</td>\n",
              "      <td>0</td>\n",
              "      <td>0</td>\n",
              "      <td>0</td>\n",
              "      <td>0</td>\n",
              "      <td>0</td>\n",
              "      <td>3</td>\n",
              "      <td>11</td>\n",
              "      <td>0</td>\n",
              "    </tr>\n",
              "    <tr>\n",
              "      <th>7</th>\n",
              "      <td>6177</td>\n",
              "      <td>1985-01-01</td>\n",
              "      <td>PhD</td>\n",
              "      <td>Married</td>\n",
              "      <td>33454.0</td>\n",
              "      <td>1</td>\n",
              "      <td>0</td>\n",
              "      <td>2013-08-05</td>\n",
              "      <td>32</td>\n",
              "      <td>76</td>\n",
              "      <td>...</td>\n",
              "      <td>8</td>\n",
              "      <td>0</td>\n",
              "      <td>0</td>\n",
              "      <td>0</td>\n",
              "      <td>0</td>\n",
              "      <td>0</td>\n",
              "      <td>0</td>\n",
              "      <td>3</td>\n",
              "      <td>11</td>\n",
              "      <td>0</td>\n",
              "    </tr>\n",
              "    <tr>\n",
              "      <th>8</th>\n",
              "      <td>4855</td>\n",
              "      <td>1974-01-01</td>\n",
              "      <td>PhD</td>\n",
              "      <td>Together</td>\n",
              "      <td>30351.0</td>\n",
              "      <td>1</td>\n",
              "      <td>0</td>\n",
              "      <td>2013-06-06</td>\n",
              "      <td>19</td>\n",
              "      <td>14</td>\n",
              "      <td>...</td>\n",
              "      <td>9</td>\n",
              "      <td>0</td>\n",
              "      <td>0</td>\n",
              "      <td>0</td>\n",
              "      <td>0</td>\n",
              "      <td>0</td>\n",
              "      <td>0</td>\n",
              "      <td>3</td>\n",
              "      <td>11</td>\n",
              "      <td>1</td>\n",
              "    </tr>\n",
              "    <tr>\n",
              "      <th>9</th>\n",
              "      <td>5899</td>\n",
              "      <td>1950-01-01</td>\n",
              "      <td>PhD</td>\n",
              "      <td>Together</td>\n",
              "      <td>5648.0</td>\n",
              "      <td>1</td>\n",
              "      <td>1</td>\n",
              "      <td>2014-03-13</td>\n",
              "      <td>68</td>\n",
              "      <td>28</td>\n",
              "      <td>...</td>\n",
              "      <td>20</td>\n",
              "      <td>1</td>\n",
              "      <td>0</td>\n",
              "      <td>0</td>\n",
              "      <td>0</td>\n",
              "      <td>0</td>\n",
              "      <td>0</td>\n",
              "      <td>3</td>\n",
              "      <td>11</td>\n",
              "      <td>0</td>\n",
              "    </tr>\n",
              "    <tr>\n",
              "      <th>10</th>\n",
              "      <td>1994</td>\n",
              "      <td>1983-01-01</td>\n",
              "      <td>Graduation</td>\n",
              "      <td>Married</td>\n",
              "      <td>NaN</td>\n",
              "      <td>1</td>\n",
              "      <td>0</td>\n",
              "      <td>2013-11-15</td>\n",
              "      <td>11</td>\n",
              "      <td>5</td>\n",
              "      <td>...</td>\n",
              "      <td>7</td>\n",
              "      <td>0</td>\n",
              "      <td>0</td>\n",
              "      <td>0</td>\n",
              "      <td>0</td>\n",
              "      <td>0</td>\n",
              "      <td>0</td>\n",
              "      <td>3</td>\n",
              "      <td>11</td>\n",
              "      <td>0</td>\n",
              "    </tr>\n",
              "    <tr>\n",
              "      <th>11</th>\n",
              "      <td>387</td>\n",
              "      <td>1976-01-01</td>\n",
              "      <td>Basic</td>\n",
              "      <td>Married</td>\n",
              "      <td>7500.0</td>\n",
              "      <td>0</td>\n",
              "      <td>0</td>\n",
              "      <td>2012-11-13</td>\n",
              "      <td>59</td>\n",
              "      <td>6</td>\n",
              "      <td>...</td>\n",
              "      <td>8</td>\n",
              "      <td>0</td>\n",
              "      <td>0</td>\n",
              "      <td>0</td>\n",
              "      <td>0</td>\n",
              "      <td>0</td>\n",
              "      <td>0</td>\n",
              "      <td>3</td>\n",
              "      <td>11</td>\n",
              "      <td>0</td>\n",
              "    </tr>\n",
              "    <tr>\n",
              "      <th>12</th>\n",
              "      <td>2125</td>\n",
              "      <td>1959-01-01</td>\n",
              "      <td>Graduation</td>\n",
              "      <td>Divorced</td>\n",
              "      <td>63033.0</td>\n",
              "      <td>0</td>\n",
              "      <td>0</td>\n",
              "      <td>2013-11-15</td>\n",
              "      <td>82</td>\n",
              "      <td>194</td>\n",
              "      <td>...</td>\n",
              "      <td>2</td>\n",
              "      <td>0</td>\n",
              "      <td>0</td>\n",
              "      <td>0</td>\n",
              "      <td>0</td>\n",
              "      <td>0</td>\n",
              "      <td>0</td>\n",
              "      <td>3</td>\n",
              "      <td>11</td>\n",
              "      <td>0</td>\n",
              "    </tr>\n",
              "    <tr>\n",
              "      <th>13</th>\n",
              "      <td>8180</td>\n",
              "      <td>1952-01-01</td>\n",
              "      <td>Master</td>\n",
              "      <td>Divorced</td>\n",
              "      <td>59354.0</td>\n",
              "      <td>1</td>\n",
              "      <td>1</td>\n",
              "      <td>2013-11-15</td>\n",
              "      <td>53</td>\n",
              "      <td>233</td>\n",
              "      <td>...</td>\n",
              "      <td>6</td>\n",
              "      <td>0</td>\n",
              "      <td>0</td>\n",
              "      <td>0</td>\n",
              "      <td>0</td>\n",
              "      <td>0</td>\n",
              "      <td>0</td>\n",
              "      <td>3</td>\n",
              "      <td>11</td>\n",
              "      <td>0</td>\n",
              "    </tr>\n",
              "    <tr>\n",
              "      <th>14</th>\n",
              "      <td>2569</td>\n",
              "      <td>1987-01-01</td>\n",
              "      <td>Graduation</td>\n",
              "      <td>Married</td>\n",
              "      <td>17323.0</td>\n",
              "      <td>0</td>\n",
              "      <td>0</td>\n",
              "      <td>2012-10-10</td>\n",
              "      <td>38</td>\n",
              "      <td>3</td>\n",
              "      <td>...</td>\n",
              "      <td>8</td>\n",
              "      <td>0</td>\n",
              "      <td>0</td>\n",
              "      <td>0</td>\n",
              "      <td>0</td>\n",
              "      <td>0</td>\n",
              "      <td>0</td>\n",
              "      <td>3</td>\n",
              "      <td>11</td>\n",
              "      <td>0</td>\n",
              "    </tr>\n",
              "    <tr>\n",
              "      <th>15</th>\n",
              "      <td>2114</td>\n",
              "      <td>1946-01-01</td>\n",
              "      <td>PhD</td>\n",
              "      <td>Single</td>\n",
              "      <td>82800.0</td>\n",
              "      <td>0</td>\n",
              "      <td>0</td>\n",
              "      <td>2012-11-24</td>\n",
              "      <td>23</td>\n",
              "      <td>1006</td>\n",
              "      <td>...</td>\n",
              "      <td>3</td>\n",
              "      <td>0</td>\n",
              "      <td>0</td>\n",
              "      <td>1</td>\n",
              "      <td>1</td>\n",
              "      <td>0</td>\n",
              "      <td>0</td>\n",
              "      <td>3</td>\n",
              "      <td>11</td>\n",
              "      <td>1</td>\n",
              "    </tr>\n",
              "    <tr>\n",
              "      <th>16</th>\n",
              "      <td>9736</td>\n",
              "      <td>1980-01-01</td>\n",
              "      <td>Graduation</td>\n",
              "      <td>Married</td>\n",
              "      <td>41850.0</td>\n",
              "      <td>1</td>\n",
              "      <td>1</td>\n",
              "      <td>2012-12-24</td>\n",
              "      <td>51</td>\n",
              "      <td>53</td>\n",
              "      <td>...</td>\n",
              "      <td>8</td>\n",
              "      <td>0</td>\n",
              "      <td>0</td>\n",
              "      <td>0</td>\n",
              "      <td>0</td>\n",
              "      <td>0</td>\n",
              "      <td>0</td>\n",
              "      <td>3</td>\n",
              "      <td>11</td>\n",
              "      <td>0</td>\n",
              "    </tr>\n",
              "    <tr>\n",
              "      <th>17</th>\n",
              "      <td>4939</td>\n",
              "      <td>1946-01-01</td>\n",
              "      <td>Graduation</td>\n",
              "      <td>Together</td>\n",
              "      <td>37760.0</td>\n",
              "      <td>0</td>\n",
              "      <td>0</td>\n",
              "      <td>2012-08-31</td>\n",
              "      <td>20</td>\n",
              "      <td>84</td>\n",
              "      <td>...</td>\n",
              "      <td>7</td>\n",
              "      <td>0</td>\n",
              "      <td>0</td>\n",
              "      <td>0</td>\n",
              "      <td>0</td>\n",
              "      <td>0</td>\n",
              "      <td>0</td>\n",
              "      <td>3</td>\n",
              "      <td>11</td>\n",
              "      <td>0</td>\n",
              "    </tr>\n",
              "    <tr>\n",
              "      <th>18</th>\n",
              "      <td>6565</td>\n",
              "      <td>1949-01-01</td>\n",
              "      <td>Master</td>\n",
              "      <td>Married</td>\n",
              "      <td>76995.0</td>\n",
              "      <td>0</td>\n",
              "      <td>1</td>\n",
              "      <td>2013-03-28</td>\n",
              "      <td>91</td>\n",
              "      <td>1012</td>\n",
              "      <td>...</td>\n",
              "      <td>5</td>\n",
              "      <td>0</td>\n",
              "      <td>0</td>\n",
              "      <td>0</td>\n",
              "      <td>1</td>\n",
              "      <td>0</td>\n",
              "      <td>0</td>\n",
              "      <td>3</td>\n",
              "      <td>11</td>\n",
              "      <td>0</td>\n",
              "    </tr>\n",
              "    <tr>\n",
              "      <th>19</th>\n",
              "      <td>2278</td>\n",
              "      <td>1985-01-01</td>\n",
              "      <td>2n Cycle</td>\n",
              "      <td>Single</td>\n",
              "      <td>33812.0</td>\n",
              "      <td>1</td>\n",
              "      <td>0</td>\n",
              "      <td>2012-03-11</td>\n",
              "      <td>86</td>\n",
              "      <td>4</td>\n",
              "      <td>...</td>\n",
              "      <td>6</td>\n",
              "      <td>0</td>\n",
              "      <td>0</td>\n",
              "      <td>0</td>\n",
              "      <td>0</td>\n",
              "      <td>0</td>\n",
              "      <td>0</td>\n",
              "      <td>3</td>\n",
              "      <td>11</td>\n",
              "      <td>0</td>\n",
              "    </tr>\n",
              "  </tbody>\n",
              "</table>\n",
              "<p>20 rows × 29 columns</p>\n",
              "</div>\n",
              "      <button class=\"colab-df-convert\" onclick=\"convertToInteractive('df-99408a16-ec16-4eed-8c73-bf2288524e68')\"\n",
              "              title=\"Convert this dataframe to an interactive table.\"\n",
              "              style=\"display:none;\">\n",
              "        \n",
              "  <svg xmlns=\"http://www.w3.org/2000/svg\" height=\"24px\"viewBox=\"0 0 24 24\"\n",
              "       width=\"24px\">\n",
              "    <path d=\"M0 0h24v24H0V0z\" fill=\"none\"/>\n",
              "    <path d=\"M18.56 5.44l.94 2.06.94-2.06 2.06-.94-2.06-.94-.94-2.06-.94 2.06-2.06.94zm-11 1L8.5 8.5l.94-2.06 2.06-.94-2.06-.94L8.5 2.5l-.94 2.06-2.06.94zm10 10l.94 2.06.94-2.06 2.06-.94-2.06-.94-.94-2.06-.94 2.06-2.06.94z\"/><path d=\"M17.41 7.96l-1.37-1.37c-.4-.4-.92-.59-1.43-.59-.52 0-1.04.2-1.43.59L10.3 9.45l-7.72 7.72c-.78.78-.78 2.05 0 2.83L4 21.41c.39.39.9.59 1.41.59.51 0 1.02-.2 1.41-.59l7.78-7.78 2.81-2.81c.8-.78.8-2.07 0-2.86zM5.41 20L4 18.59l7.72-7.72 1.47 1.35L5.41 20z\"/>\n",
              "  </svg>\n",
              "      </button>\n",
              "      \n",
              "  <style>\n",
              "    .colab-df-container {\n",
              "      display:flex;\n",
              "      flex-wrap:wrap;\n",
              "      gap: 12px;\n",
              "    }\n",
              "\n",
              "    .colab-df-convert {\n",
              "      background-color: #E8F0FE;\n",
              "      border: none;\n",
              "      border-radius: 50%;\n",
              "      cursor: pointer;\n",
              "      display: none;\n",
              "      fill: #1967D2;\n",
              "      height: 32px;\n",
              "      padding: 0 0 0 0;\n",
              "      width: 32px;\n",
              "    }\n",
              "\n",
              "    .colab-df-convert:hover {\n",
              "      background-color: #E2EBFA;\n",
              "      box-shadow: 0px 1px 2px rgba(60, 64, 67, 0.3), 0px 1px 3px 1px rgba(60, 64, 67, 0.15);\n",
              "      fill: #174EA6;\n",
              "    }\n",
              "\n",
              "    [theme=dark] .colab-df-convert {\n",
              "      background-color: #3B4455;\n",
              "      fill: #D2E3FC;\n",
              "    }\n",
              "\n",
              "    [theme=dark] .colab-df-convert:hover {\n",
              "      background-color: #434B5C;\n",
              "      box-shadow: 0px 1px 3px 1px rgba(0, 0, 0, 0.15);\n",
              "      filter: drop-shadow(0px 1px 2px rgba(0, 0, 0, 0.3));\n",
              "      fill: #FFFFFF;\n",
              "    }\n",
              "  </style>\n",
              "\n",
              "      <script>\n",
              "        const buttonEl =\n",
              "          document.querySelector('#df-99408a16-ec16-4eed-8c73-bf2288524e68 button.colab-df-convert');\n",
              "        buttonEl.style.display =\n",
              "          google.colab.kernel.accessAllowed ? 'block' : 'none';\n",
              "\n",
              "        async function convertToInteractive(key) {\n",
              "          const element = document.querySelector('#df-99408a16-ec16-4eed-8c73-bf2288524e68');\n",
              "          const dataTable =\n",
              "            await google.colab.kernel.invokeFunction('convertToInteractive',\n",
              "                                                     [key], {});\n",
              "          if (!dataTable) return;\n",
              "\n",
              "          const docLinkHtml = 'Like what you see? Visit the ' +\n",
              "            '<a target=\"_blank\" href=https://colab.research.google.com/notebooks/data_table.ipynb>data table notebook</a>'\n",
              "            + ' to learn more about interactive tables.';\n",
              "          element.innerHTML = '';\n",
              "          dataTable['output_type'] = 'display_data';\n",
              "          await google.colab.output.renderOutput(dataTable, element);\n",
              "          const docLink = document.createElement('div');\n",
              "          docLink.innerHTML = docLinkHtml;\n",
              "          element.appendChild(docLink);\n",
              "        }\n",
              "      </script>\n",
              "    </div>\n",
              "  </div>\n",
              "  "
            ]
          },
          "metadata": {},
          "execution_count": 3
        }
      ],
      "source": [
        "df.head(20)"
      ]
    },
    {
      "cell_type": "code",
      "execution_count": null,
      "metadata": {
        "id": "Lkp8C3FoLKM6",
        "colab": {
          "base_uri": "https://localhost:8080/"
        },
        "outputId": "0f03cb2d-eddb-472d-90a5-c68d7dc41837"
      },
      "outputs": [
        {
          "output_type": "stream",
          "name": "stdout",
          "text": [
            "<class 'pandas.core.frame.DataFrame'>\n",
            "RangeIndex: 2240 entries, 0 to 2239\n",
            "Data columns (total 29 columns):\n",
            " #   Column               Non-Null Count  Dtype         \n",
            "---  ------               --------------  -----         \n",
            " 0   ID                   2240 non-null   int64         \n",
            " 1   Year_Birth           2240 non-null   datetime64[ns]\n",
            " 2   Education            2240 non-null   object        \n",
            " 3   Marital_Status       2240 non-null   object        \n",
            " 4   Income               2216 non-null   float64       \n",
            " 5   Kidhome              2240 non-null   int64         \n",
            " 6   Teenhome             2240 non-null   int64         \n",
            " 7   Dt_Customer          2240 non-null   datetime64[ns]\n",
            " 8   Recency              2240 non-null   int64         \n",
            " 9   MntWines             2240 non-null   int64         \n",
            " 10  MntFruits            2240 non-null   int64         \n",
            " 11  MntMeatProducts      2240 non-null   int64         \n",
            " 12  MntFishProducts      2240 non-null   int64         \n",
            " 13  MntSweetProducts     2240 non-null   int64         \n",
            " 14  MntGoldProds         2240 non-null   int64         \n",
            " 15  NumDealsPurchases    2240 non-null   int64         \n",
            " 16  NumWebPurchases      2240 non-null   int64         \n",
            " 17  NumCatalogPurchases  2240 non-null   int64         \n",
            " 18  NumStorePurchases    2240 non-null   int64         \n",
            " 19  NumWebVisitsMonth    2240 non-null   int64         \n",
            " 20  AcceptedCmp3         2240 non-null   int64         \n",
            " 21  AcceptedCmp4         2240 non-null   int64         \n",
            " 22  AcceptedCmp5         2240 non-null   int64         \n",
            " 23  AcceptedCmp1         2240 non-null   int64         \n",
            " 24  AcceptedCmp2         2240 non-null   int64         \n",
            " 25  Complain             2240 non-null   int64         \n",
            " 26  Z_CostContact        2240 non-null   int64         \n",
            " 27  Z_Revenue            2240 non-null   int64         \n",
            " 28  Response             2240 non-null   int64         \n",
            "dtypes: datetime64[ns](2), float64(1), int64(24), object(2)\n",
            "memory usage: 507.6+ KB\n"
          ]
        }
      ],
      "source": [
        "df.info()"
      ]
    },
    {
      "cell_type": "code",
      "execution_count": null,
      "metadata": {
        "id": "PK7_fRRti9gU",
        "colab": {
          "base_uri": "https://localhost:8080/",
          "height": 394
        },
        "outputId": "2ff2c4eb-1e7c-42e5-9b35-3538138e88f4"
      },
      "outputs": [
        {
          "output_type": "execute_result",
          "data": {
            "text/plain": [
              "                 ID         Income      Kidhome     Teenhome      Recency  \\\n",
              "count   2240.000000    2216.000000  2240.000000  2240.000000  2240.000000   \n",
              "mean    5592.159821   52247.251354     0.444196     0.506250    49.109375   \n",
              "std     3246.662198   25173.076661     0.538398     0.544538    28.962453   \n",
              "min        0.000000    1730.000000     0.000000     0.000000     0.000000   \n",
              "25%     2828.250000   35303.000000     0.000000     0.000000    24.000000   \n",
              "50%     5458.500000   51381.500000     0.000000     0.000000    49.000000   \n",
              "75%     8427.750000   68522.000000     1.000000     1.000000    74.000000   \n",
              "max    11191.000000  666666.000000     2.000000     2.000000    99.000000   \n",
              "\n",
              "          MntWines    MntFruits  MntMeatProducts  MntFishProducts  \\\n",
              "count  2240.000000  2240.000000      2240.000000      2240.000000   \n",
              "mean    303.935714    26.302232       166.950000        37.525446   \n",
              "std     336.597393    39.773434       225.715373        54.628979   \n",
              "min       0.000000     0.000000         0.000000         0.000000   \n",
              "25%      23.750000     1.000000        16.000000         3.000000   \n",
              "50%     173.500000     8.000000        67.000000        12.000000   \n",
              "75%     504.250000    33.000000       232.000000        50.000000   \n",
              "max    1493.000000   199.000000      1725.000000       259.000000   \n",
              "\n",
              "       MntSweetProducts  ...  NumWebVisitsMonth  AcceptedCmp3  AcceptedCmp4  \\\n",
              "count       2240.000000  ...        2240.000000   2240.000000   2240.000000   \n",
              "mean          27.062946  ...           5.316518      0.072768      0.074554   \n",
              "std           41.280498  ...           2.426645      0.259813      0.262728   \n",
              "min            0.000000  ...           0.000000      0.000000      0.000000   \n",
              "25%            1.000000  ...           3.000000      0.000000      0.000000   \n",
              "50%            8.000000  ...           6.000000      0.000000      0.000000   \n",
              "75%           33.000000  ...           7.000000      0.000000      0.000000   \n",
              "max          263.000000  ...          20.000000      1.000000      1.000000   \n",
              "\n",
              "       AcceptedCmp5  AcceptedCmp1  AcceptedCmp2     Complain  Z_CostContact  \\\n",
              "count   2240.000000   2240.000000   2240.000000  2240.000000         2240.0   \n",
              "mean       0.072768      0.064286      0.013393     0.009375            3.0   \n",
              "std        0.259813      0.245316      0.114976     0.096391            0.0   \n",
              "min        0.000000      0.000000      0.000000     0.000000            3.0   \n",
              "25%        0.000000      0.000000      0.000000     0.000000            3.0   \n",
              "50%        0.000000      0.000000      0.000000     0.000000            3.0   \n",
              "75%        0.000000      0.000000      0.000000     0.000000            3.0   \n",
              "max        1.000000      1.000000      1.000000     1.000000            3.0   \n",
              "\n",
              "       Z_Revenue     Response  \n",
              "count     2240.0  2240.000000  \n",
              "mean        11.0     0.149107  \n",
              "std          0.0     0.356274  \n",
              "min         11.0     0.000000  \n",
              "25%         11.0     0.000000  \n",
              "50%         11.0     0.000000  \n",
              "75%         11.0     0.000000  \n",
              "max         11.0     1.000000  \n",
              "\n",
              "[8 rows x 25 columns]"
            ],
            "text/html": [
              "\n",
              "  <div id=\"df-51bb64ef-c739-436a-9ee8-e7d11d7e3922\">\n",
              "    <div class=\"colab-df-container\">\n",
              "      <div>\n",
              "<style scoped>\n",
              "    .dataframe tbody tr th:only-of-type {\n",
              "        vertical-align: middle;\n",
              "    }\n",
              "\n",
              "    .dataframe tbody tr th {\n",
              "        vertical-align: top;\n",
              "    }\n",
              "\n",
              "    .dataframe thead th {\n",
              "        text-align: right;\n",
              "    }\n",
              "</style>\n",
              "<table border=\"1\" class=\"dataframe\">\n",
              "  <thead>\n",
              "    <tr style=\"text-align: right;\">\n",
              "      <th></th>\n",
              "      <th>ID</th>\n",
              "      <th>Income</th>\n",
              "      <th>Kidhome</th>\n",
              "      <th>Teenhome</th>\n",
              "      <th>Recency</th>\n",
              "      <th>MntWines</th>\n",
              "      <th>MntFruits</th>\n",
              "      <th>MntMeatProducts</th>\n",
              "      <th>MntFishProducts</th>\n",
              "      <th>MntSweetProducts</th>\n",
              "      <th>...</th>\n",
              "      <th>NumWebVisitsMonth</th>\n",
              "      <th>AcceptedCmp3</th>\n",
              "      <th>AcceptedCmp4</th>\n",
              "      <th>AcceptedCmp5</th>\n",
              "      <th>AcceptedCmp1</th>\n",
              "      <th>AcceptedCmp2</th>\n",
              "      <th>Complain</th>\n",
              "      <th>Z_CostContact</th>\n",
              "      <th>Z_Revenue</th>\n",
              "      <th>Response</th>\n",
              "    </tr>\n",
              "  </thead>\n",
              "  <tbody>\n",
              "    <tr>\n",
              "      <th>count</th>\n",
              "      <td>2240.000000</td>\n",
              "      <td>2216.000000</td>\n",
              "      <td>2240.000000</td>\n",
              "      <td>2240.000000</td>\n",
              "      <td>2240.000000</td>\n",
              "      <td>2240.000000</td>\n",
              "      <td>2240.000000</td>\n",
              "      <td>2240.000000</td>\n",
              "      <td>2240.000000</td>\n",
              "      <td>2240.000000</td>\n",
              "      <td>...</td>\n",
              "      <td>2240.000000</td>\n",
              "      <td>2240.000000</td>\n",
              "      <td>2240.000000</td>\n",
              "      <td>2240.000000</td>\n",
              "      <td>2240.000000</td>\n",
              "      <td>2240.000000</td>\n",
              "      <td>2240.000000</td>\n",
              "      <td>2240.0</td>\n",
              "      <td>2240.0</td>\n",
              "      <td>2240.000000</td>\n",
              "    </tr>\n",
              "    <tr>\n",
              "      <th>mean</th>\n",
              "      <td>5592.159821</td>\n",
              "      <td>52247.251354</td>\n",
              "      <td>0.444196</td>\n",
              "      <td>0.506250</td>\n",
              "      <td>49.109375</td>\n",
              "      <td>303.935714</td>\n",
              "      <td>26.302232</td>\n",
              "      <td>166.950000</td>\n",
              "      <td>37.525446</td>\n",
              "      <td>27.062946</td>\n",
              "      <td>...</td>\n",
              "      <td>5.316518</td>\n",
              "      <td>0.072768</td>\n",
              "      <td>0.074554</td>\n",
              "      <td>0.072768</td>\n",
              "      <td>0.064286</td>\n",
              "      <td>0.013393</td>\n",
              "      <td>0.009375</td>\n",
              "      <td>3.0</td>\n",
              "      <td>11.0</td>\n",
              "      <td>0.149107</td>\n",
              "    </tr>\n",
              "    <tr>\n",
              "      <th>std</th>\n",
              "      <td>3246.662198</td>\n",
              "      <td>25173.076661</td>\n",
              "      <td>0.538398</td>\n",
              "      <td>0.544538</td>\n",
              "      <td>28.962453</td>\n",
              "      <td>336.597393</td>\n",
              "      <td>39.773434</td>\n",
              "      <td>225.715373</td>\n",
              "      <td>54.628979</td>\n",
              "      <td>41.280498</td>\n",
              "      <td>...</td>\n",
              "      <td>2.426645</td>\n",
              "      <td>0.259813</td>\n",
              "      <td>0.262728</td>\n",
              "      <td>0.259813</td>\n",
              "      <td>0.245316</td>\n",
              "      <td>0.114976</td>\n",
              "      <td>0.096391</td>\n",
              "      <td>0.0</td>\n",
              "      <td>0.0</td>\n",
              "      <td>0.356274</td>\n",
              "    </tr>\n",
              "    <tr>\n",
              "      <th>min</th>\n",
              "      <td>0.000000</td>\n",
              "      <td>1730.000000</td>\n",
              "      <td>0.000000</td>\n",
              "      <td>0.000000</td>\n",
              "      <td>0.000000</td>\n",
              "      <td>0.000000</td>\n",
              "      <td>0.000000</td>\n",
              "      <td>0.000000</td>\n",
              "      <td>0.000000</td>\n",
              "      <td>0.000000</td>\n",
              "      <td>...</td>\n",
              "      <td>0.000000</td>\n",
              "      <td>0.000000</td>\n",
              "      <td>0.000000</td>\n",
              "      <td>0.000000</td>\n",
              "      <td>0.000000</td>\n",
              "      <td>0.000000</td>\n",
              "      <td>0.000000</td>\n",
              "      <td>3.0</td>\n",
              "      <td>11.0</td>\n",
              "      <td>0.000000</td>\n",
              "    </tr>\n",
              "    <tr>\n",
              "      <th>25%</th>\n",
              "      <td>2828.250000</td>\n",
              "      <td>35303.000000</td>\n",
              "      <td>0.000000</td>\n",
              "      <td>0.000000</td>\n",
              "      <td>24.000000</td>\n",
              "      <td>23.750000</td>\n",
              "      <td>1.000000</td>\n",
              "      <td>16.000000</td>\n",
              "      <td>3.000000</td>\n",
              "      <td>1.000000</td>\n",
              "      <td>...</td>\n",
              "      <td>3.000000</td>\n",
              "      <td>0.000000</td>\n",
              "      <td>0.000000</td>\n",
              "      <td>0.000000</td>\n",
              "      <td>0.000000</td>\n",
              "      <td>0.000000</td>\n",
              "      <td>0.000000</td>\n",
              "      <td>3.0</td>\n",
              "      <td>11.0</td>\n",
              "      <td>0.000000</td>\n",
              "    </tr>\n",
              "    <tr>\n",
              "      <th>50%</th>\n",
              "      <td>5458.500000</td>\n",
              "      <td>51381.500000</td>\n",
              "      <td>0.000000</td>\n",
              "      <td>0.000000</td>\n",
              "      <td>49.000000</td>\n",
              "      <td>173.500000</td>\n",
              "      <td>8.000000</td>\n",
              "      <td>67.000000</td>\n",
              "      <td>12.000000</td>\n",
              "      <td>8.000000</td>\n",
              "      <td>...</td>\n",
              "      <td>6.000000</td>\n",
              "      <td>0.000000</td>\n",
              "      <td>0.000000</td>\n",
              "      <td>0.000000</td>\n",
              "      <td>0.000000</td>\n",
              "      <td>0.000000</td>\n",
              "      <td>0.000000</td>\n",
              "      <td>3.0</td>\n",
              "      <td>11.0</td>\n",
              "      <td>0.000000</td>\n",
              "    </tr>\n",
              "    <tr>\n",
              "      <th>75%</th>\n",
              "      <td>8427.750000</td>\n",
              "      <td>68522.000000</td>\n",
              "      <td>1.000000</td>\n",
              "      <td>1.000000</td>\n",
              "      <td>74.000000</td>\n",
              "      <td>504.250000</td>\n",
              "      <td>33.000000</td>\n",
              "      <td>232.000000</td>\n",
              "      <td>50.000000</td>\n",
              "      <td>33.000000</td>\n",
              "      <td>...</td>\n",
              "      <td>7.000000</td>\n",
              "      <td>0.000000</td>\n",
              "      <td>0.000000</td>\n",
              "      <td>0.000000</td>\n",
              "      <td>0.000000</td>\n",
              "      <td>0.000000</td>\n",
              "      <td>0.000000</td>\n",
              "      <td>3.0</td>\n",
              "      <td>11.0</td>\n",
              "      <td>0.000000</td>\n",
              "    </tr>\n",
              "    <tr>\n",
              "      <th>max</th>\n",
              "      <td>11191.000000</td>\n",
              "      <td>666666.000000</td>\n",
              "      <td>2.000000</td>\n",
              "      <td>2.000000</td>\n",
              "      <td>99.000000</td>\n",
              "      <td>1493.000000</td>\n",
              "      <td>199.000000</td>\n",
              "      <td>1725.000000</td>\n",
              "      <td>259.000000</td>\n",
              "      <td>263.000000</td>\n",
              "      <td>...</td>\n",
              "      <td>20.000000</td>\n",
              "      <td>1.000000</td>\n",
              "      <td>1.000000</td>\n",
              "      <td>1.000000</td>\n",
              "      <td>1.000000</td>\n",
              "      <td>1.000000</td>\n",
              "      <td>1.000000</td>\n",
              "      <td>3.0</td>\n",
              "      <td>11.0</td>\n",
              "      <td>1.000000</td>\n",
              "    </tr>\n",
              "  </tbody>\n",
              "</table>\n",
              "<p>8 rows × 25 columns</p>\n",
              "</div>\n",
              "      <button class=\"colab-df-convert\" onclick=\"convertToInteractive('df-51bb64ef-c739-436a-9ee8-e7d11d7e3922')\"\n",
              "              title=\"Convert this dataframe to an interactive table.\"\n",
              "              style=\"display:none;\">\n",
              "        \n",
              "  <svg xmlns=\"http://www.w3.org/2000/svg\" height=\"24px\"viewBox=\"0 0 24 24\"\n",
              "       width=\"24px\">\n",
              "    <path d=\"M0 0h24v24H0V0z\" fill=\"none\"/>\n",
              "    <path d=\"M18.56 5.44l.94 2.06.94-2.06 2.06-.94-2.06-.94-.94-2.06-.94 2.06-2.06.94zm-11 1L8.5 8.5l.94-2.06 2.06-.94-2.06-.94L8.5 2.5l-.94 2.06-2.06.94zm10 10l.94 2.06.94-2.06 2.06-.94-2.06-.94-.94-2.06-.94 2.06-2.06.94z\"/><path d=\"M17.41 7.96l-1.37-1.37c-.4-.4-.92-.59-1.43-.59-.52 0-1.04.2-1.43.59L10.3 9.45l-7.72 7.72c-.78.78-.78 2.05 0 2.83L4 21.41c.39.39.9.59 1.41.59.51 0 1.02-.2 1.41-.59l7.78-7.78 2.81-2.81c.8-.78.8-2.07 0-2.86zM5.41 20L4 18.59l7.72-7.72 1.47 1.35L5.41 20z\"/>\n",
              "  </svg>\n",
              "      </button>\n",
              "      \n",
              "  <style>\n",
              "    .colab-df-container {\n",
              "      display:flex;\n",
              "      flex-wrap:wrap;\n",
              "      gap: 12px;\n",
              "    }\n",
              "\n",
              "    .colab-df-convert {\n",
              "      background-color: #E8F0FE;\n",
              "      border: none;\n",
              "      border-radius: 50%;\n",
              "      cursor: pointer;\n",
              "      display: none;\n",
              "      fill: #1967D2;\n",
              "      height: 32px;\n",
              "      padding: 0 0 0 0;\n",
              "      width: 32px;\n",
              "    }\n",
              "\n",
              "    .colab-df-convert:hover {\n",
              "      background-color: #E2EBFA;\n",
              "      box-shadow: 0px 1px 2px rgba(60, 64, 67, 0.3), 0px 1px 3px 1px rgba(60, 64, 67, 0.15);\n",
              "      fill: #174EA6;\n",
              "    }\n",
              "\n",
              "    [theme=dark] .colab-df-convert {\n",
              "      background-color: #3B4455;\n",
              "      fill: #D2E3FC;\n",
              "    }\n",
              "\n",
              "    [theme=dark] .colab-df-convert:hover {\n",
              "      background-color: #434B5C;\n",
              "      box-shadow: 0px 1px 3px 1px rgba(0, 0, 0, 0.15);\n",
              "      filter: drop-shadow(0px 1px 2px rgba(0, 0, 0, 0.3));\n",
              "      fill: #FFFFFF;\n",
              "    }\n",
              "  </style>\n",
              "\n",
              "      <script>\n",
              "        const buttonEl =\n",
              "          document.querySelector('#df-51bb64ef-c739-436a-9ee8-e7d11d7e3922 button.colab-df-convert');\n",
              "        buttonEl.style.display =\n",
              "          google.colab.kernel.accessAllowed ? 'block' : 'none';\n",
              "\n",
              "        async function convertToInteractive(key) {\n",
              "          const element = document.querySelector('#df-51bb64ef-c739-436a-9ee8-e7d11d7e3922');\n",
              "          const dataTable =\n",
              "            await google.colab.kernel.invokeFunction('convertToInteractive',\n",
              "                                                     [key], {});\n",
              "          if (!dataTable) return;\n",
              "\n",
              "          const docLinkHtml = 'Like what you see? Visit the ' +\n",
              "            '<a target=\"_blank\" href=https://colab.research.google.com/notebooks/data_table.ipynb>data table notebook</a>'\n",
              "            + ' to learn more about interactive tables.';\n",
              "          element.innerHTML = '';\n",
              "          dataTable['output_type'] = 'display_data';\n",
              "          await google.colab.output.renderOutput(dataTable, element);\n",
              "          const docLink = document.createElement('div');\n",
              "          docLink.innerHTML = docLinkHtml;\n",
              "          element.appendChild(docLink);\n",
              "        }\n",
              "      </script>\n",
              "    </div>\n",
              "  </div>\n",
              "  "
            ]
          },
          "metadata": {},
          "execution_count": 5
        }
      ],
      "source": [
        "df.describe()"
      ]
    },
    {
      "cell_type": "code",
      "execution_count": null,
      "metadata": {
        "id": "2F2T3Clhkcgp",
        "colab": {
          "base_uri": "https://localhost:8080/"
        },
        "outputId": "70253661-af24-4085-b511-f2741a8573fb"
      },
      "outputs": [
        {
          "output_type": "execute_result",
          "data": {
            "text/plain": [
              "ID                     2240\n",
              "Year_Birth               59\n",
              "Education                 5\n",
              "Marital_Status            8\n",
              "Income                 1974\n",
              "Kidhome                   3\n",
              "Teenhome                  3\n",
              "Dt_Customer             663\n",
              "Recency                 100\n",
              "MntWines                776\n",
              "MntFruits               158\n",
              "MntMeatProducts         558\n",
              "MntFishProducts         182\n",
              "MntSweetProducts        177\n",
              "MntGoldProds            213\n",
              "NumDealsPurchases        15\n",
              "NumWebPurchases          15\n",
              "NumCatalogPurchases      14\n",
              "NumStorePurchases        14\n",
              "NumWebVisitsMonth        16\n",
              "AcceptedCmp3              2\n",
              "AcceptedCmp4              2\n",
              "AcceptedCmp5              2\n",
              "AcceptedCmp1              2\n",
              "AcceptedCmp2              2\n",
              "Complain                  2\n",
              "Z_CostContact             1\n",
              "Z_Revenue                 1\n",
              "Response                  2\n",
              "dtype: int64"
            ]
          },
          "metadata": {},
          "execution_count": 6
        }
      ],
      "source": [
        " df.nunique()"
      ]
    },
    {
      "cell_type": "markdown",
      "metadata": {
        "id": "CN1CeyDfPyKa"
      },
      "source": [
        "### Pembersihan Data"
      ]
    },
    {
      "cell_type": "code",
      "execution_count": null,
      "metadata": {
        "id": "0YT66XOYPyKc"
      },
      "outputs": [],
      "source": [
        "df.drop(['Z_CostContact' ,'Z_Revenue', 'ID'] , axis = 1 , inplace=True)"
      ]
    },
    {
      "cell_type": "code",
      "execution_count": null,
      "metadata": {
        "id": "rcqlsgh5PyKd",
        "colab": {
          "base_uri": "https://localhost:8080/"
        },
        "outputId": "6093741d-0221-4a8e-8bb7-47373f0ab41e"
      },
      "outputs": [
        {
          "output_type": "execute_result",
          "data": {
            "text/plain": [
              "Income               24\n",
              "Year_Birth            0\n",
              "NumDealsPurchases     0\n",
              "Complain              0\n",
              "AcceptedCmp2          0\n",
              "dtype: int64"
            ]
          },
          "metadata": {},
          "execution_count": 8
        }
      ],
      "source": [
        "df.isna().sum().sort_values(ascending=False)[:5]"
      ]
    },
    {
      "cell_type": "markdown",
      "metadata": {
        "id": "Pk0wztLZPyKe"
      },
      "source": [
        "Z_CostContact dan Z_Revenue hanya terdapat single value lebih baik di drop (Zero Variance Predictor)"
      ]
    },
    {
      "cell_type": "code",
      "execution_count": null,
      "metadata": {
        "id": "ZKGul3EIPyKe",
        "colab": {
          "base_uri": "https://localhost:8080/",
          "height": 369
        },
        "outputId": "25c1e316-8e88-4cd7-8fef-c3a75d0aed2b"
      },
      "outputs": [
        {
          "output_type": "display_data",
          "data": {
            "text/plain": [
              "<Figure size 360x360 with 1 Axes>"
            ],
            "image/png": "[encoded data removed]"
          },
          "metadata": {
            "needs_background": "light"
          }
        }
      ],
      "source": [
        "sns.displot(df['Income'])\n",
        "plt.show()"
      ]
    },
    {
      "cell_type": "code",
      "execution_count": null,
      "metadata": {
        "id": "OTPviLevPyKf"
      },
      "outputs": [],
      "source": [
        "df['Income'].fillna(value=df['Income'].median() ,inplace=True)"
      ]
    },
    {
      "cell_type": "code",
      "source": [
        "df['Income'].describe()"
      ],
      "metadata": {
        "colab": {
          "base_uri": "https://localhost:8080/"
        },
        "id": "4Ocw21sdlsE6",
        "outputId": "6c5bb469-1e91-404e-fa70-1318d5a86730"
      },
      "execution_count": null,
      "outputs": [
        {
          "output_type": "execute_result",
          "data": {
            "text/plain": [
              "count     1534.000000\n",
              "mean     43562.040743\n",
              "std      17130.157888\n",
              "min       5305.000000\n",
              "25%      30630.250000\n",
              "50%      42344.000000\n",
              "75%      55585.500000\n",
              "max      90933.000000\n",
              "Name: Income, dtype: float64"
            ]
          },
          "metadata": {},
          "execution_count": 71
        }
      ]
    },
    {
      "cell_type": "code",
      "execution_count": null,
      "metadata": {
        "id": "f1-gCgduPyKg",
        "colab": {
          "base_uri": "https://localhost:8080/"
        },
        "outputId": "c40d1bd3-d75f-4f93-80c1-11144002dd4b"
      },
      "outputs": [
        {
          "output_type": "execute_result",
          "data": {
            "text/plain": [
              "Year_Birth             False\n",
              "Education              False\n",
              "Marital_Status         False\n",
              "Income                 False\n",
              "Kidhome                False\n",
              "Teenhome               False\n",
              "Dt_Customer            False\n",
              "Recency                False\n",
              "MntWines               False\n",
              "MntFruits              False\n",
              "MntMeatProducts        False\n",
              "MntFishProducts        False\n",
              "MntSweetProducts       False\n",
              "MntGoldProds           False\n",
              "NumDealsPurchases      False\n",
              "NumWebPurchases        False\n",
              "NumCatalogPurchases    False\n",
              "NumStorePurchases      False\n",
              "NumWebVisitsMonth      False\n",
              "AcceptedCmp3           False\n",
              "AcceptedCmp4           False\n",
              "AcceptedCmp5           False\n",
              "AcceptedCmp1           False\n",
              "AcceptedCmp2           False\n",
              "Complain               False\n",
              "Response               False\n",
              "dtype: bool"
            ]
          },
          "metadata": {},
          "execution_count": 11
        }
      ],
      "source": [
        "df.isna().any()"
      ]
    },
    {
      "cell_type": "code",
      "execution_count": null,
      "metadata": {
        "id": "g1w6Fq5vPyKg"
      },
      "outputs": [],
      "source": [
        "num_col_sel = ['Year_Birth',\n",
        " 'Income',\n",
        " 'Recency',\n",
        " 'MntWines',\n",
        " 'MntFruits',\n",
        " 'MntMeatProducts',\n",
        " 'MntFishProducts',\n",
        " 'MntSweetProducts',\n",
        " 'MntGoldProds',\n",
        " 'NumDealsPurchases',\n",
        " 'NumWebPurchases',\n",
        " 'NumCatalogPurchases',\n",
        " 'NumStorePurchases',\n",
        " 'NumWebVisitsMonth']"
      ]
    },
    {
      "cell_type": "code",
      "execution_count": null,
      "metadata": {
        "id": "JJCX8fV1PyKh"
      },
      "outputs": [],
      "source": [
        "def detect_outliers(df,n,features):\n",
        "    outlier_indices = []\n",
        "    \n",
        "    for col in features:\n",
        "        Q1 = np.percentile(df[col],25)\n",
        "        Q3 = np.percentile(df[col],75)\n",
        "        IQR = Q3 - Q1\n",
        "       \n",
        "        outlier_step = 1.5 * IQR\n",
        "        outlier_list_col = df[(df[col] < Q1 - outlier_step) | (df[col] > Q3 + outlier_step )].index\n",
        "        \n",
        "        outlier_indices.extend(outlier_list_col)\n",
        "        \n",
        "    outlier_indices = Counter(outlier_indices)        \n",
        "    multiple_outliers = list( k for k, v in outlier_indices.items() if v > n )\n",
        "    \n",
        "    return multiple_outliers  \n",
        "Outliers_to_drop=detect_outliers(df,0,num_col_sel)"
      ]
    },
    {
      "cell_type": "code",
      "execution_count": null,
      "metadata": {
        "id": "ptIGBqwcPyKj"
      },
      "outputs": [],
      "source": [
        "df = df.drop(Outliers_to_drop, axis = 0).reset_index(drop=True)"
      ]
    },
    {
      "cell_type": "markdown",
      "metadata": {
        "id": "-TxRJyKt3nlr"
      },
      "source": [
        "## EDA"
      ]
    },
    {
      "cell_type": "code",
      "execution_count": null,
      "metadata": {
        "id": "NraIfZfSv06_",
        "colab": {
          "base_uri": "https://localhost:8080/"
        },
        "outputId": "0678e5af-9b0b-49d9-f461-db447f642f0d"
      },
      "outputs": [
        {
          "output_type": "stream",
          "name": "stdout",
          "text": [
            "Tanggal data terbaru: 2014-12-06\n",
            "Tanggal data terlama: 2012-01-08\n"
          ]
        }
      ],
      "source": [
        "df[\"Dt_Customer\"] = pd.to_datetime(df[\"Dt_Customer\"])\n",
        "dates = []\n",
        "for i in df[\"Dt_Customer\"]:\n",
        "    i = i.date()\n",
        "    dates.append(i)  \n",
        "print(\"Tanggal data terbaru:\",max(dates))\n",
        "print(\"Tanggal data terlama:\",min(dates))"
      ]
    },
    {
      "cell_type": "code",
      "execution_count": null,
      "metadata": {
        "id": "GwG8dPTeKbz7",
        "colab": {
          "base_uri": "https://localhost:8080/"
        },
        "outputId": "2d8c3cf5-5d44-493d-8e9c-cc395a45a537"
      },
      "outputs": [
        {
          "output_type": "execute_result",
          "data": {
            "text/plain": [
              "1976    66\n",
              "1975    62\n",
              "1971    59\n",
              "1973    58\n",
              "1974    56\n",
              "1972    56\n",
              "1978    53\n",
              "1969    52\n",
              "1970    50\n",
              "1965    49\n",
              "1966    39\n",
              "1979    38\n",
              "1977    37\n",
              "1968    37\n",
              "1956    36\n",
              "1952    35\n",
              "1955    35\n",
              "1960    34\n",
              "1967    33\n",
              "1958    32\n",
              "1983    30\n",
              "1963    30\n",
              "1986    30\n",
              "1957    30\n",
              "1959    30\n",
              "1954    29\n",
              "1981    29\n",
              "1984    28\n",
              "1964    28\n",
              "1985    28\n",
              "1982    27\n",
              "1980    27\n",
              "1961    25\n",
              "1951    25\n",
              "1962    25\n",
              "1950    24\n",
              "1989    23\n",
              "1953    23\n",
              "1987    19\n",
              "1949    19\n",
              "1988    18\n",
              "1990    13\n",
              "1948    11\n",
              "1946     8\n",
              "1992     8\n",
              "1991     7\n",
              "1947     7\n",
              "1944     4\n",
              "1945     4\n",
              "1995     2\n",
              "1996     2\n",
              "1943     2\n",
              "1994     1\n",
              "1940     1\n",
              "Name: Year_Birth, dtype: int64"
            ]
          },
          "metadata": {},
          "execution_count": 16
        }
      ],
      "source": [
        "df['Year_Birth']=pd.DatetimeIndex(df['Year_Birth']).year\n",
        "df['Year_Birth'].value_counts()"
      ]
    },
    {
      "cell_type": "code",
      "execution_count": null,
      "metadata": {
        "id": "TBz2533EMmN9",
        "colab": {
          "base_uri": "https://localhost:8080/"
        },
        "outputId": "502aa244-e898-4b9c-efa3-266b764cf054"
      },
      "outputs": [
        {
          "output_type": "execute_result",
          "data": {
            "text/plain": [
              "44    66\n",
              "45    62\n",
              "49    59\n",
              "47    58\n",
              "46    56\n",
              "48    56\n",
              "42    53\n",
              "51    52\n",
              "50    50\n",
              "55    49\n",
              "54    39\n",
              "41    38\n",
              "43    37\n",
              "52    37\n",
              "64    36\n",
              "68    35\n",
              "65    35\n",
              "60    34\n",
              "53    33\n",
              "62    32\n",
              "37    30\n",
              "57    30\n",
              "34    30\n",
              "63    30\n",
              "61    30\n",
              "66    29\n",
              "39    29\n",
              "36    28\n",
              "56    28\n",
              "35    28\n",
              "38    27\n",
              "40    27\n",
              "59    25\n",
              "69    25\n",
              "58    25\n",
              "70    24\n",
              "31    23\n",
              "67    23\n",
              "33    19\n",
              "71    19\n",
              "32    18\n",
              "30    13\n",
              "72    11\n",
              "74     8\n",
              "28     8\n",
              "29     7\n",
              "73     7\n",
              "76     4\n",
              "75     4\n",
              "25     2\n",
              "24     2\n",
              "77     2\n",
              "26     1\n",
              "80     1\n",
              "Name: Age, dtype: int64"
            ]
          },
          "metadata": {},
          "execution_count": 17
        }
      ],
      "source": [
        "df['Age'] = 2020 - df['Year_Birth']\n",
        "df['Age'].value_counts()"
      ]
    },
    {
      "cell_type": "code",
      "execution_count": null,
      "metadata": {
        "id": "yd3Mw19z-XbS",
        "colab": {
          "base_uri": "https://localhost:8080/"
        },
        "outputId": "e896fab8-953a-4636-8ec2-5ca49f4bf5a6"
      },
      "outputs": [
        {
          "output_type": "execute_result",
          "data": {
            "text/plain": [
              "count     1534.000000\n",
              "mean     43562.040743\n",
              "std      17130.157888\n",
              "min       5305.000000\n",
              "25%      30630.250000\n",
              "50%      42344.000000\n",
              "75%      55585.500000\n",
              "max      90933.000000\n",
              "Name: Income, dtype: float64"
            ]
          },
          "metadata": {},
          "execution_count": 18
        }
      ],
      "source": [
        "df['Income'].describe()"
      ]
    },
    {
      "cell_type": "code",
      "execution_count": null,
      "metadata": {
        "id": "8k_Wpdc01KmO",
        "colab": {
          "base_uri": "https://localhost:8080/"
        },
        "outputId": "af93d23b-6d3e-4562-fb19-83a9bb4830e9"
      },
      "outputs": [
        {
          "output_type": "execute_result",
          "data": {
            "text/plain": [
              "Married     598\n",
              "Together    401\n",
              "Single      327\n",
              "Divorced    155\n",
              "Widow        48\n",
              "Alone         3\n",
              "YOLO          2\n",
              "Name: Marital_Status, dtype: int64"
            ]
          },
          "metadata": {},
          "execution_count": 19
        }
      ],
      "source": [
        "df[\"Marital_Status\"].value_counts()"
      ]
    },
    {
      "cell_type": "code",
      "execution_count": null,
      "metadata": {
        "id": "8UH3s5Ws3iJz"
      },
      "outputs": [],
      "source": [
        "df['Marital_Status'] = df['Marital_Status'].replace(['Married', 'Together'],'Relationship')\n",
        "df['Marital_Status'] = df['Marital_Status'].replace(['Divorced', 'Widow', 'Alone', 'YOLO', 'Absurd'],'Single')"
      ]
    },
    {
      "cell_type": "code",
      "execution_count": null,
      "metadata": {
        "id": "PMkqflUk8DyO",
        "colab": {
          "base_uri": "https://localhost:8080/",
          "height": 352
        },
        "outputId": "c75e08f2-ee69-4429-e098-9fe64bb6abfc"
      },
      "outputs": [
        {
          "output_type": "execute_result",
          "data": {
            "text/plain": [
              "<Figure size 576x576 with 0 Axes>"
            ]
          },
          "metadata": {},
          "execution_count": 21
        },
        {
          "output_type": "display_data",
          "data": {
            "text/plain": [
              "<Figure size 432x288 with 1 Axes>"
            ],
            "image/png": "[encoded data removed]"
          },
          "metadata": {
            "needs_background": "light"
          }
        },
        {
          "output_type": "display_data",
          "data": {
            "text/plain": [
              "<Figure size 576x576 with 0 Axes>"
            ]
          },
          "metadata": {}
        }
      ],
      "source": [
        "df['Marital_Status'].value_counts().plot(kind='bar',color = 'pink',edgecolor = \"black\",linewidth = 3)\n",
        "plt.figure(figsize=(8,8))"
      ]
    },
    {
      "cell_type": "markdown",
      "metadata": {
        "id": "KlBZz3Y_8nyT"
      },
      "source": [
        "64.5% of pelanggan pada dataset ini sudah memiliki hubungan dan 35.5% lainnya masih berstatus sendiri"
      ]
    },
    {
      "cell_type": "code",
      "execution_count": null,
      "metadata": {
        "id": "sfElMBwc1RLA",
        "colab": {
          "base_uri": "https://localhost:8080/"
        },
        "outputId": "f439bf00-aec0-4595-9f56-c63531249fd6"
      },
      "outputs": [
        {
          "output_type": "execute_result",
          "data": {
            "text/plain": [
              "Graduation    724\n",
              "PhD           356\n",
              "Master        268\n",
              "2n Cycle      134\n",
              "Basic          52\n",
              "Name: Education, dtype: int64"
            ]
          },
          "metadata": {},
          "execution_count": 22
        }
      ],
      "source": [
        "df[\"Education\"].value_counts()"
      ]
    },
    {
      "cell_type": "code",
      "execution_count": null,
      "metadata": {
        "id": "npzckw-E377a"
      },
      "outputs": [],
      "source": [
        "df['Education'] = df['Education'].replace(['PhD','2n Cycle','Graduation', 'Master'],'Post Graduate')  \n",
        "df['Education'] = df['Education'].replace(['Basic'], 'Under Graduate')"
      ]
    },
    {
      "cell_type": "code",
      "execution_count": null,
      "metadata": {
        "id": "vQ1yzu1P4RyR",
        "colab": {
          "base_uri": "https://localhost:8080/",
          "height": 371
        },
        "outputId": "d88216da-2193-42d7-faf6-5880b4609e1a"
      },
      "outputs": [
        {
          "output_type": "execute_result",
          "data": {
            "text/plain": [
              "<Figure size 576x576 with 0 Axes>"
            ]
          },
          "metadata": {},
          "execution_count": 24
        },
        {
          "output_type": "display_data",
          "data": {
            "text/plain": [
              "<Figure size 432x288 with 1 Axes>"
            ],
            "image/png": "[encoded data removed]"
          },
          "metadata": {
            "needs_background": "light"
          }
        },
        {
          "output_type": "display_data",
          "data": {
            "text/plain": [
              "<Figure size 576x576 with 0 Axes>"
            ]
          },
          "metadata": {}
        }
      ],
      "source": [
        "df['Education'].value_counts().plot(kind='bar',color = 'blue',edgecolor = \"black\",linewidth = 3)\n",
        "plt.figure(figsize=(8,8))"
      ]
    },
    {
      "cell_type": "markdown",
      "metadata": {
        "id": "PU3JMal64zNS"
      },
      "source": [
        "Sekitar 97.5% pelanggan yang sudah disurvei telah sarjana\n",
        " dan sekitar 2.5% lainnya belum menjadi sarjana"
      ]
    },
    {
      "cell_type": "code",
      "execution_count": null,
      "metadata": {
        "id": "ftboUoHjG447",
        "colab": {
          "base_uri": "https://localhost:8080/"
        },
        "outputId": "6521b555-5566-46c5-b17f-0976f080828d"
      },
      "outputs": [
        {
          "output_type": "execute_result",
          "data": {
            "text/plain": [
              "array([1, 0, 2])"
            ]
          },
          "metadata": {},
          "execution_count": 25
        }
      ],
      "source": [
        "df['Kidhome'].unique()"
      ]
    },
    {
      "cell_type": "code",
      "execution_count": null,
      "metadata": {
        "id": "hG8w1o6RG7Ae",
        "colab": {
          "base_uri": "https://localhost:8080/"
        },
        "outputId": "9b91620d-f91b-414a-cfbd-998a1c88cf10"
      },
      "outputs": [
        {
          "output_type": "execute_result",
          "data": {
            "text/plain": [
              "array([1, 0, 2])"
            ]
          },
          "metadata": {},
          "execution_count": 26
        }
      ],
      "source": [
        "df['Teenhome'].unique()"
      ]
    },
    {
      "cell_type": "code",
      "execution_count": null,
      "metadata": {
        "id": "vFDPpzYRG_Ov"
      },
      "outputs": [],
      "source": [
        "df['Children'] = df['Kidhome'] + df['Teenhome']"
      ]
    },
    {
      "cell_type": "code",
      "execution_count": null,
      "metadata": {
        "id": "8uHeAbD3HQEQ",
        "colab": {
          "base_uri": "https://localhost:8080/"
        },
        "outputId": "e3b2f9cf-712d-4b12-8335-4e19f4f12a4e"
      },
      "outputs": [
        {
          "output_type": "execute_result",
          "data": {
            "text/plain": [
              "1    900\n",
              "2    358\n",
              "0    237\n",
              "3     39\n",
              "Name: Children, dtype: int64"
            ]
          },
          "metadata": {},
          "execution_count": 28
        }
      ],
      "source": [
        "df['Children'].value_counts()"
      ]
    },
    {
      "cell_type": "code",
      "execution_count": null,
      "metadata": {
        "id": "Wi7iCWODHTpr",
        "colab": {
          "base_uri": "https://localhost:8080/",
          "height": 350
        },
        "outputId": "01c8095f-714a-4c03-f894-e2195f94be08"
      },
      "outputs": [
        {
          "output_type": "execute_result",
          "data": {
            "text/plain": [
              "<Figure size 576x576 with 0 Axes>"
            ]
          },
          "metadata": {},
          "execution_count": 29
        },
        {
          "output_type": "display_data",
          "data": {
            "text/plain": [
              "<Figure size 432x288 with 1 Axes>"
            ],
            "image/png": "[encoded data removed]"
          },
          "metadata": {
            "needs_background": "light"
          }
        },
        {
          "output_type": "display_data",
          "data": {
            "text/plain": [
              "<Figure size 576x576 with 0 Axes>"
            ]
          },
          "metadata": {}
        }
      ],
      "source": [
        "df['Children'].value_counts().plot(kind='bar',color = 'turquoise',edgecolor = \"black\",linewidth = 3)\n",
        "plt.title(\"Kids Variable \\n\",fontsize=24)\n",
        "plt.figure(figsize=(8,8))"
      ]
    },
    {
      "cell_type": "code",
      "execution_count": null,
      "metadata": {
        "id": "kJQIXjZlOV-j"
      },
      "outputs": [],
      "source": [
        "df[\"Spent\"] = df[\"MntWines\"]+ df[\"MntFruits\"]+ df[\"MntMeatProducts\"]+ df[\"MntFishProducts\"]+ df[\"MntSweetProducts\"]+ df[\"MntGoldProds\"]"
      ]
    },
    {
      "cell_type": "code",
      "execution_count": null,
      "metadata": {
        "id": "KzMyMNjzIOD3"
      },
      "outputs": [],
      "source": [
        "df=df.rename(columns={\"MntWines\": \"Wines\",\"MntFruits\":\"Fruits\",\"MntMeatProducts\":\"Meat\",\"MntFishProducts\":\"Fish\",\"MntSweetProducts\":\"Sweets\",\"MntGoldProds\":\"Gold\"})"
      ]
    },
    {
      "cell_type": "code",
      "execution_count": null,
      "metadata": {
        "id": "giUQoTmPNdv8"
      },
      "outputs": [],
      "source": [
        "df['TotalAcceptedCmp'] = df['AcceptedCmp1'] + df['AcceptedCmp2'] + df['AcceptedCmp3'] + df['AcceptedCmp4'] + df['AcceptedCmp5']"
      ]
    },
    {
      "cell_type": "code",
      "execution_count": null,
      "metadata": {
        "colab": {
          "base_uri": "https://localhost:8080/"
        },
        "id": "9vDmPmWUN2fO",
        "outputId": "32adfb1f-a0f8-4394-8770-d52ff7bd9b52"
      },
      "outputs": [
        {
          "output_type": "execute_result",
          "data": {
            "text/plain": [
              "0    1308\n",
              "1     183\n",
              "2      31\n",
              "3       9\n",
              "4       3\n",
              "Name: TotalAcceptedCmp, dtype: int64"
            ]
          },
          "metadata": {},
          "execution_count": 33
        }
      ],
      "source": [
        "df['TotalAcceptedCmp'].value_counts()"
      ]
    },
    {
      "cell_type": "code",
      "execution_count": null,
      "metadata": {
        "colab": {
          "base_uri": "https://localhost:8080/",
          "height": 350
        },
        "id": "K-Hw7KQGNhcW",
        "outputId": "f39d7da5-050e-40bd-800d-87e656beda67"
      },
      "outputs": [
        {
          "output_type": "execute_result",
          "data": {
            "text/plain": [
              "<Figure size 576x576 with 0 Axes>"
            ]
          },
          "metadata": {},
          "execution_count": 34
        },
        {
          "output_type": "display_data",
          "data": {
            "text/plain": [
              "<Figure size 432x288 with 1 Axes>"
            ],
            "image/png": "[encoded data removed]"
          },
          "metadata": {
            "needs_background": "light"
          }
        },
        {
          "output_type": "display_data",
          "data": {
            "text/plain": [
              "<Figure size 576x576 with 0 Axes>"
            ]
          },
          "metadata": {}
        }
      ],
      "source": [
        "df['TotalAcceptedCmp'].value_counts().plot(kind='bar',color = 'turquoise',edgecolor = \"black\",linewidth = 3)\n",
        "plt.title(\"TotalAcceptedCmp\\n\",fontsize=24)\n",
        "plt.figure(figsize=(8,8))"
      ]
    },
    {
      "cell_type": "code",
      "execution_count": null,
      "metadata": {
        "id": "G_2gynN-WAsV",
        "colab": {
          "base_uri": "https://localhost:8080/"
        },
        "outputId": "792908b9-c85e-4c7a-dc0c-3743471f18e1"
      },
      "outputs": [
        {
          "output_type": "execute_result",
          "data": {
            "text/plain": [
              "0        6\n",
              "1       21\n",
              "2        8\n",
              "3       19\n",
              "4       22\n",
              "        ..\n",
              "1529     4\n",
              "1530     4\n",
              "1531    19\n",
              "1532    23\n",
              "1533    11\n",
              "Name: TotalPurchases, Length: 1534, dtype: int64"
            ]
          },
          "metadata": {},
          "execution_count": 35
        }
      ],
      "source": [
        "df['TotalPurchases'] = df[['NumDealsPurchases', 'NumWebPurchases',\n",
        "       'NumCatalogPurchases', 'NumStorePurchases']].sum(axis= 1)\n",
        "df['TotalPurchases']"
      ]
    },
    {
      "cell_type": "code",
      "execution_count": null,
      "metadata": {
        "id": "zFmwG58DWlMV"
      },
      "outputs": [],
      "source": [
        "df['Savings']=df['Income'] - df['Spent']"
      ]
    },
    {
      "cell_type": "code",
      "execution_count": null,
      "metadata": {
        "colab": {
          "base_uri": "https://localhost:8080/"
        },
        "id": "FFTpZX2OJ01G",
        "outputId": "3283a5f5-d690-4b08-cc8a-347a37542f11"
      },
      "outputs": [
        {
          "output_type": "stream",
          "name": "stdout",
          "text": [
            "<class 'pandas.core.frame.DataFrame'>\n",
            "RangeIndex: 1534 entries, 0 to 1533\n",
            "Data columns (total 32 columns):\n",
            " #   Column               Non-Null Count  Dtype         \n",
            "---  ------               --------------  -----         \n",
            " 0   Year_Birth           1534 non-null   int64         \n",
            " 1   Education            1534 non-null   object        \n",
            " 2   Marital_Status       1534 non-null   object        \n",
            " 3   Income               1534 non-null   float64       \n",
            " 4   Kidhome              1534 non-null   int64         \n",
            " 5   Teenhome             1534 non-null   int64         \n",
            " 6   Dt_Customer          1534 non-null   datetime64[ns]\n",
            " 7   Recency              1534 non-null   int64         \n",
            " 8   Wines                1534 non-null   int64         \n",
            " 9   Fruits               1534 non-null   int64         \n",
            " 10  Meat                 1534 non-null   int64         \n",
            " 11  Fish                 1534 non-null   int64         \n",
            " 12  Sweets               1534 non-null   int64         \n",
            " 13  Gold                 1534 non-null   int64         \n",
            " 14  NumDealsPurchases    1534 non-null   int64         \n",
            " 15  NumWebPurchases      1534 non-null   int64         \n",
            " 16  NumCatalogPurchases  1534 non-null   int64         \n",
            " 17  NumStorePurchases    1534 non-null   int64         \n",
            " 18  NumWebVisitsMonth    1534 non-null   int64         \n",
            " 19  AcceptedCmp3         1534 non-null   int64         \n",
            " 20  AcceptedCmp4         1534 non-null   int64         \n",
            " 21  AcceptedCmp5         1534 non-null   int64         \n",
            " 22  AcceptedCmp1         1534 non-null   int64         \n",
            " 23  AcceptedCmp2         1534 non-null   int64         \n",
            " 24  Complain             1534 non-null   int64         \n",
            " 25  Response             1534 non-null   int64         \n",
            " 26  Age                  1534 non-null   int64         \n",
            " 27  Children             1534 non-null   int64         \n",
            " 28  Spent                1534 non-null   int64         \n",
            " 29  TotalAcceptedCmp     1534 non-null   int64         \n",
            " 30  TotalPurchases       1534 non-null   int64         \n",
            " 31  Savings              1534 non-null   float64       \n",
            "dtypes: datetime64[ns](1), float64(2), int64(27), object(2)\n",
            "memory usage: 383.6+ KB\n"
          ]
        }
      ],
      "source": [
        "df.info()"
      ]
    },
    {
      "cell_type": "code",
      "execution_count": null,
      "metadata": {
        "id": "9NBMXKZtOMt9"
      },
      "outputs": [],
      "source": [
        "df.drop(['Year_Birth' ,'Dt_Customer'] , axis=1 , inplace=True)"
      ]
    },
    {
      "cell_type": "code",
      "execution_count": null,
      "metadata": {
        "id": "6LTu7Mvk_-FX"
      },
      "outputs": [],
      "source": [
        "#Melakukan Drop pada Marital Status dan Education karena bersifat Kategorik\n",
        "df.drop(['NumDealsPurchases', 'NumWebPurchases','NumCatalogPurchases', 'NumStorePurchases','NumWebVisitsMonth'], axis = 1, inplace=True)\n",
        "df.drop(['AcceptedCmp1','AcceptedCmp2', 'AcceptedCmp3', 'AcceptedCmp4', 'AcceptedCmp5'], axis = 1, inplace=True)\n",
        "df.drop(['Wines', 'Fruits', 'Meat', 'Fish', 'Sweets', 'Gold'], axis = 1 , inplace=True)\n",
        "df.drop(['Kidhome', 'Teenhome'], axis = 1 , inplace=True)\n"
      ]
    },
    {
      "cell_type": "code",
      "execution_count": null,
      "metadata": {
        "colab": {
          "base_uri": "https://localhost:8080/",
          "height": 424
        },
        "id": "W8ZLbN8DZWdL",
        "outputId": "ad1e34c0-eb6b-47f4-c53f-b6e8583deeb1"
      },
      "outputs": [
        {
          "output_type": "execute_result",
          "data": {
            "text/plain": [
              "       Income  Recency  Age  Children  Spent  TotalAcceptedCmp  \\\n",
              "0     46344.0       38   66         2     27                 0   \n",
              "1     71613.0       26   55         0    776                 0   \n",
              "2     26646.0       26   36         1     53                 0   \n",
              "3     58293.0       94   39         1    422                 0   \n",
              "4     62513.0       16   53         1    716                 0   \n",
              "...       ...      ...  ...       ...    ...               ...   \n",
              "1529  26816.0       50   34         0     22                 0   \n",
              "1530  34421.0       81   46         1     30                 0   \n",
              "1531  56981.0       91   39         0   1241                 1   \n",
              "1532  69245.0        8   64         1    843                 0   \n",
              "1533  52869.0       40   66         2    172                 0   \n",
              "\n",
              "      TotalPurchases  Savings  \n",
              "0                  6  46317.0  \n",
              "1                 21  70837.0  \n",
              "2                  8  26593.0  \n",
              "3                 19  57871.0  \n",
              "4                 22  61797.0  \n",
              "...              ...      ...  \n",
              "1529               4  26794.0  \n",
              "1530               4  34391.0  \n",
              "1531              19  55740.0  \n",
              "1532              23  68402.0  \n",
              "1533              11  52697.0  \n",
              "\n",
              "[1534 rows x 8 columns]"
            ],
            "text/html": [
              "\n",
              "  <div id=\"df-6208141d-1d99-432e-9d68-f4b25acad5a8\">\n",
              "    <div class=\"colab-df-container\">\n",
              "      <div>\n",
              "<style scoped>\n",
              "    .dataframe tbody tr th:only-of-type {\n",
              "        vertical-align: middle;\n",
              "    }\n",
              "\n",
              "    .dataframe tbody tr th {\n",
              "        vertical-align: top;\n",
              "    }\n",
              "\n",
              "    .dataframe thead th {\n",
              "        text-align: right;\n",
              "    }\n",
              "</style>\n",
              "<table border=\"1\" class=\"dataframe\">\n",
              "  <thead>\n",
              "    <tr style=\"text-align: right;\">\n",
              "      <th></th>\n",
              "      <th>Income</th>\n",
              "      <th>Recency</th>\n",
              "      <th>Age</th>\n",
              "      <th>Children</th>\n",
              "      <th>Spent</th>\n",
              "      <th>TotalAcceptedCmp</th>\n",
              "      <th>TotalPurchases</th>\n",
              "      <th>Savings</th>\n",
              "    </tr>\n",
              "  </thead>\n",
              "  <tbody>\n",
              "    <tr>\n",
              "      <th>0</th>\n",
              "      <td>46344.0</td>\n",
              "      <td>38</td>\n",
              "      <td>66</td>\n",
              "      <td>2</td>\n",
              "      <td>27</td>\n",
              "      <td>0</td>\n",
              "      <td>6</td>\n",
              "      <td>46317.0</td>\n",
              "    </tr>\n",
              "    <tr>\n",
              "      <th>1</th>\n",
              "      <td>71613.0</td>\n",
              "      <td>26</td>\n",
              "      <td>55</td>\n",
              "      <td>0</td>\n",
              "      <td>776</td>\n",
              "      <td>0</td>\n",
              "      <td>21</td>\n",
              "      <td>70837.0</td>\n",
              "    </tr>\n",
              "    <tr>\n",
              "      <th>2</th>\n",
              "      <td>26646.0</td>\n",
              "      <td>26</td>\n",
              "      <td>36</td>\n",
              "      <td>1</td>\n",
              "      <td>53</td>\n",
              "      <td>0</td>\n",
              "      <td>8</td>\n",
              "      <td>26593.0</td>\n",
              "    </tr>\n",
              "    <tr>\n",
              "      <th>3</th>\n",
              "      <td>58293.0</td>\n",
              "      <td>94</td>\n",
              "      <td>39</td>\n",
              "      <td>1</td>\n",
              "      <td>422</td>\n",
              "      <td>0</td>\n",
              "      <td>19</td>\n",
              "      <td>57871.0</td>\n",
              "    </tr>\n",
              "    <tr>\n",
              "      <th>4</th>\n",
              "      <td>62513.0</td>\n",
              "      <td>16</td>\n",
              "      <td>53</td>\n",
              "      <td>1</td>\n",
              "      <td>716</td>\n",
              "      <td>0</td>\n",
              "      <td>22</td>\n",
              "      <td>61797.0</td>\n",
              "    </tr>\n",
              "    <tr>\n",
              "      <th>...</th>\n",
              "      <td>...</td>\n",
              "      <td>...</td>\n",
              "      <td>...</td>\n",
              "      <td>...</td>\n",
              "      <td>...</td>\n",
              "      <td>...</td>\n",
              "      <td>...</td>\n",
              "      <td>...</td>\n",
              "    </tr>\n",
              "    <tr>\n",
              "      <th>1529</th>\n",
              "      <td>26816.0</td>\n",
              "      <td>50</td>\n",
              "      <td>34</td>\n",
              "      <td>0</td>\n",
              "      <td>22</td>\n",
              "      <td>0</td>\n",
              "      <td>4</td>\n",
              "      <td>26794.0</td>\n",
              "    </tr>\n",
              "    <tr>\n",
              "      <th>1530</th>\n",
              "      <td>34421.0</td>\n",
              "      <td>81</td>\n",
              "      <td>46</td>\n",
              "      <td>1</td>\n",
              "      <td>30</td>\n",
              "      <td>0</td>\n",
              "      <td>4</td>\n",
              "      <td>34391.0</td>\n",
              "    </tr>\n",
              "    <tr>\n",
              "      <th>1531</th>\n",
              "      <td>56981.0</td>\n",
              "      <td>91</td>\n",
              "      <td>39</td>\n",
              "      <td>0</td>\n",
              "      <td>1241</td>\n",
              "      <td>1</td>\n",
              "      <td>19</td>\n",
              "      <td>55740.0</td>\n",
              "    </tr>\n",
              "    <tr>\n",
              "      <th>1532</th>\n",
              "      <td>69245.0</td>\n",
              "      <td>8</td>\n",
              "      <td>64</td>\n",
              "      <td>1</td>\n",
              "      <td>843</td>\n",
              "      <td>0</td>\n",
              "      <td>23</td>\n",
              "      <td>68402.0</td>\n",
              "    </tr>\n",
              "    <tr>\n",
              "      <th>1533</th>\n",
              "      <td>52869.0</td>\n",
              "      <td>40</td>\n",
              "      <td>66</td>\n",
              "      <td>2</td>\n",
              "      <td>172</td>\n",
              "      <td>0</td>\n",
              "      <td>11</td>\n",
              "      <td>52697.0</td>\n",
              "    </tr>\n",
              "  </tbody>\n",
              "</table>\n",
              "<p>1534 rows × 8 columns</p>\n",
              "</div>\n",
              "      <button class=\"colab-df-convert\" onclick=\"convertToInteractive('df-6208141d-1d99-432e-9d68-f4b25acad5a8')\"\n",
              "              title=\"Convert this dataframe to an interactive table.\"\n",
              "              style=\"display:none;\">\n",
              "        \n",
              "  <svg xmlns=\"http://www.w3.org/2000/svg\" height=\"24px\"viewBox=\"0 0 24 24\"\n",
              "       width=\"24px\">\n",
              "    <path d=\"M0 0h24v24H0V0z\" fill=\"none\"/>\n",
              "    <path d=\"M18.56 5.44l.94 2.06.94-2.06 2.06-.94-2.06-.94-.94-2.06-.94 2.06-2.06.94zm-11 1L8.5 8.5l.94-2.06 2.06-.94-2.06-.94L8.5 2.5l-.94 2.06-2.06.94zm10 10l.94 2.06.94-2.06 2.06-.94-2.06-.94-.94-2.06-.94 2.06-2.06.94z\"/><path d=\"M17.41 7.96l-1.37-1.37c-.4-.4-.92-.59-1.43-.59-.52 0-1.04.2-1.43.59L10.3 9.45l-7.72 7.72c-.78.78-.78 2.05 0 2.83L4 21.41c.39.39.9.59 1.41.59.51 0 1.02-.2 1.41-.59l7.78-7.78 2.81-2.81c.8-.78.8-2.07 0-2.86zM5.41 20L4 18.59l7.72-7.72 1.47 1.35L5.41 20z\"/>\n",
              "  </svg>\n",
              "      </button>\n",
              "      \n",
              "  <style>\n",
              "    .colab-df-container {\n",
              "      display:flex;\n",
              "      flex-wrap:wrap;\n",
              "      gap: 12px;\n",
              "    }\n",
              "\n",
              "    .colab-df-convert {\n",
              "      background-color: #E8F0FE;\n",
              "      border: none;\n",
              "      border-radius: 50%;\n",
              "      cursor: pointer;\n",
              "      display: none;\n",
              "      fill: #1967D2;\n",
              "      height: 32px;\n",
              "      padding: 0 0 0 0;\n",
              "      width: 32px;\n",
              "    }\n",
              "\n",
              "    .colab-df-convert:hover {\n",
              "      background-color: #E2EBFA;\n",
              "      box-shadow: 0px 1px 2px rgba(60, 64, 67, 0.3), 0px 1px 3px 1px rgba(60, 64, 67, 0.15);\n",
              "      fill: #174EA6;\n",
              "    }\n",
              "\n",
              "    [theme=dark] .colab-df-convert {\n",
              "      background-color: #3B4455;\n",
              "      fill: #D2E3FC;\n",
              "    }\n",
              "\n",
              "    [theme=dark] .colab-df-convert:hover {\n",
              "      background-color: #434B5C;\n",
              "      box-shadow: 0px 1px 3px 1px rgba(0, 0, 0, 0.15);\n",
              "      filter: drop-shadow(0px 1px 2px rgba(0, 0, 0, 0.3));\n",
              "      fill: #FFFFFF;\n",
              "    }\n",
              "  </style>\n",
              "\n",
              "      <script>\n",
              "        const buttonEl =\n",
              "          document.querySelector('#df-6208141d-1d99-432e-9d68-f4b25acad5a8 button.colab-df-convert');\n",
              "        buttonEl.style.display =\n",
              "          google.colab.kernel.accessAllowed ? 'block' : 'none';\n",
              "\n",
              "        async function convertToInteractive(key) {\n",
              "          const element = document.querySelector('#df-6208141d-1d99-432e-9d68-f4b25acad5a8');\n",
              "          const dataTable =\n",
              "            await google.colab.kernel.invokeFunction('convertToInteractive',\n",
              "                                                     [key], {});\n",
              "          if (!dataTable) return;\n",
              "\n",
              "          const docLinkHtml = 'Like what you see? Visit the ' +\n",
              "            '<a target=\"_blank\" href=https://colab.research.google.com/notebooks/data_table.ipynb>data table notebook</a>'\n",
              "            + ' to learn more about interactive tables.';\n",
              "          element.innerHTML = '';\n",
              "          dataTable['output_type'] = 'display_data';\n",
              "          await google.colab.output.renderOutput(dataTable, element);\n",
              "          const docLink = document.createElement('div');\n",
              "          docLink.innerHTML = docLinkHtml;\n",
              "          element.appendChild(docLink);\n",
              "        }\n",
              "      </script>\n",
              "    </div>\n",
              "  </div>\n",
              "  "
            ]
          },
          "metadata": {},
          "execution_count": 40
        }
      ],
      "source": [
        "#Drop data Kategori yang sudah digabung\n",
        "df_copy = df.copy()\n",
        "df_copy.drop(['Marital_Status' ,'Education', 'Complain', 'Response'] , axis = 1 , inplace=True)\n",
        "df_copy"
      ]
    },
    {
      "cell_type": "markdown",
      "metadata": {
        "id": "GxUx3tlrSd1h"
      },
      "source": [
        "**Standarisasi Data Numerik**"
      ]
    },
    {
      "cell_type": "code",
      "execution_count": null,
      "metadata": {
        "id": "lxg9n_c3SbKL"
      },
      "outputs": [],
      "source": [
        "from sklearn.preprocessing import StandardScaler\n",
        "num_cols =  [x for x in df_copy.columns if ~((df_copy[x].dtype != 'int64') & (df_copy[x].dtype != 'float64'))]\n",
        "Scaler = StandardScaler()\n",
        "df_copy[num_cols] = Scaler.fit_transform(df_copy[num_cols])"
      ]
    },
    {
      "cell_type": "code",
      "execution_count": null,
      "metadata": {
        "colab": {
          "base_uri": "https://localhost:8080/",
          "height": 424
        },
        "id": "xM-1LZcLUts8",
        "outputId": "33a753f1-32f1-4920-f177-35316e02e03f"
      },
      "outputs": [
        {
          "output_type": "execute_result",
          "data": {
            "text/plain": [
              "        Income   Recency       Age  Children     Spent  TotalAcceptedCmp  \\\n",
              "0     0.162454 -0.380491  1.359296  1.265740 -0.762146         -0.370312   \n",
              "1     1.638053 -0.793322  0.387729 -1.643091  1.188360         -0.370312   \n",
              "2    -0.987823 -0.793322 -1.290433 -0.188676 -0.694438         -0.370312   \n",
              "3     0.860223  1.546052 -1.025460 -0.188676  0.266492         -0.370312   \n",
              "4     1.106653 -1.137347  0.211080 -0.188676  1.032111         -0.370312   \n",
              "...        ...       ...       ...       ...       ...               ...   \n",
              "1529 -0.977895  0.032339 -1.467082 -1.643091 -0.775166         -0.370312   \n",
              "1530 -0.533797  1.098818 -0.407190 -0.188676 -0.754333         -0.370312   \n",
              "1531  0.783608  1.442844 -1.025460 -1.643091  2.399288          1.629894   \n",
              "1532  1.499772 -1.412568  1.182647 -0.188676  1.362838         -0.370312   \n",
              "1533  0.543486 -0.311686  1.359296  1.265740 -0.384544         -0.370312   \n",
              "\n",
              "      TotalPurchases   Savings  \n",
              "0          -0.879651  0.182661  \n",
              "1           1.347057  1.639376  \n",
              "2          -0.582757 -0.989127  \n",
              "3           1.050163  0.869075  \n",
              "4           1.495504  1.102316  \n",
              "...              ...       ...  \n",
              "1529       -1.176546 -0.977185  \n",
              "1530       -1.176546 -0.525853  \n",
              "1531        1.050163  0.742474  \n",
              "1532        1.643951  1.494714  \n",
              "1533       -0.137415  0.561692  \n",
              "\n",
              "[1534 rows x 8 columns]"
            ],
            "text/html": [
              "\n",
              "  <div id=\"df-f6498919-60f1-41a6-9e63-6cf2d2587a63\">\n",
              "    <div class=\"colab-df-container\">\n",
              "      <div>\n",
              "<style scoped>\n",
              "    .dataframe tbody tr th:only-of-type {\n",
              "        vertical-align: middle;\n",
              "    }\n",
              "\n",
              "    .dataframe tbody tr th {\n",
              "        vertical-align: top;\n",
              "    }\n",
              "\n",
              "    .dataframe thead th {\n",
              "        text-align: right;\n",
              "    }\n",
              "</style>\n",
              "<table border=\"1\" class=\"dataframe\">\n",
              "  <thead>\n",
              "    <tr style=\"text-align: right;\">\n",
              "      <th></th>\n",
              "      <th>Income</th>\n",
              "      <th>Recency</th>\n",
              "      <th>Age</th>\n",
              "      <th>Children</th>\n",
              "      <th>Spent</th>\n",
              "      <th>TotalAcceptedCmp</th>\n",
              "      <th>TotalPurchases</th>\n",
              "      <th>Savings</th>\n",
              "    </tr>\n",
              "  </thead>\n",
              "  <tbody>\n",
              "    <tr>\n",
              "      <th>0</th>\n",
              "      <td>0.162454</td>\n",
              "      <td>-0.380491</td>\n",
              "      <td>1.359296</td>\n",
              "      <td>1.265740</td>\n",
              "      <td>-0.762146</td>\n",
              "      <td>-0.370312</td>\n",
              "      <td>-0.879651</td>\n",
              "      <td>0.182661</td>\n",
              "    </tr>\n",
              "    <tr>\n",
              "      <th>1</th>\n",
              "      <td>1.638053</td>\n",
              "      <td>-0.793322</td>\n",
              "      <td>0.387729</td>\n",
              "      <td>-1.643091</td>\n",
              "      <td>1.188360</td>\n",
              "      <td>-0.370312</td>\n",
              "      <td>1.347057</td>\n",
              "      <td>1.639376</td>\n",
              "    </tr>\n",
              "    <tr>\n",
              "      <th>2</th>\n",
              "      <td>-0.987823</td>\n",
              "      <td>-0.793322</td>\n",
              "      <td>-1.290433</td>\n",
              "      <td>-0.188676</td>\n",
              "      <td>-0.694438</td>\n",
              "      <td>-0.370312</td>\n",
              "      <td>-0.582757</td>\n",
              "      <td>-0.989127</td>\n",
              "    </tr>\n",
              "    <tr>\n",
              "      <th>3</th>\n",
              "      <td>0.860223</td>\n",
              "      <td>1.546052</td>\n",
              "      <td>-1.025460</td>\n",
              "      <td>-0.188676</td>\n",
              "      <td>0.266492</td>\n",
              "      <td>-0.370312</td>\n",
              "      <td>1.050163</td>\n",
              "      <td>0.869075</td>\n",
              "    </tr>\n",
              "    <tr>\n",
              "      <th>4</th>\n",
              "      <td>1.106653</td>\n",
              "      <td>-1.137347</td>\n",
              "      <td>0.211080</td>\n",
              "      <td>-0.188676</td>\n",
              "      <td>1.032111</td>\n",
              "      <td>-0.370312</td>\n",
              "      <td>1.495504</td>\n",
              "      <td>1.102316</td>\n",
              "    </tr>\n",
              "    <tr>\n",
              "      <th>...</th>\n",
              "      <td>...</td>\n",
              "      <td>...</td>\n",
              "      <td>...</td>\n",
              "      <td>...</td>\n",
              "      <td>...</td>\n",
              "      <td>...</td>\n",
              "      <td>...</td>\n",
              "      <td>...</td>\n",
              "    </tr>\n",
              "    <tr>\n",
              "      <th>1529</th>\n",
              "      <td>-0.977895</td>\n",
              "      <td>0.032339</td>\n",
              "      <td>-1.467082</td>\n",
              "      <td>-1.643091</td>\n",
              "      <td>-0.775166</td>\n",
              "      <td>-0.370312</td>\n",
              "      <td>-1.176546</td>\n",
              "      <td>-0.977185</td>\n",
              "    </tr>\n",
              "    <tr>\n",
              "      <th>1530</th>\n",
              "      <td>-0.533797</td>\n",
              "      <td>1.098818</td>\n",
              "      <td>-0.407190</td>\n",
              "      <td>-0.188676</td>\n",
              "      <td>-0.754333</td>\n",
              "      <td>-0.370312</td>\n",
              "      <td>-1.176546</td>\n",
              "      <td>-0.525853</td>\n",
              "    </tr>\n",
              "    <tr>\n",
              "      <th>1531</th>\n",
              "      <td>0.783608</td>\n",
              "      <td>1.442844</td>\n",
              "      <td>-1.025460</td>\n",
              "      <td>-1.643091</td>\n",
              "      <td>2.399288</td>\n",
              "      <td>1.629894</td>\n",
              "      <td>1.050163</td>\n",
              "      <td>0.742474</td>\n",
              "    </tr>\n",
              "    <tr>\n",
              "      <th>1532</th>\n",
              "      <td>1.499772</td>\n",
              "      <td>-1.412568</td>\n",
              "      <td>1.182647</td>\n",
              "      <td>-0.188676</td>\n",
              "      <td>1.362838</td>\n",
              "      <td>-0.370312</td>\n",
              "      <td>1.643951</td>\n",
              "      <td>1.494714</td>\n",
              "    </tr>\n",
              "    <tr>\n",
              "      <th>1533</th>\n",
              "      <td>0.543486</td>\n",
              "      <td>-0.311686</td>\n",
              "      <td>1.359296</td>\n",
              "      <td>1.265740</td>\n",
              "      <td>-0.384544</td>\n",
              "      <td>-0.370312</td>\n",
              "      <td>-0.137415</td>\n",
              "      <td>0.561692</td>\n",
              "    </tr>\n",
              "  </tbody>\n",
              "</table>\n",
              "<p>1534 rows × 8 columns</p>\n",
              "</div>\n",
              "      <button class=\"colab-df-convert\" onclick=\"convertToInteractive('df-f6498919-60f1-41a6-9e63-6cf2d2587a63')\"\n",
              "              title=\"Convert this dataframe to an interactive table.\"\n",
              "              style=\"display:none;\">\n",
              "        \n",
              "  <svg xmlns=\"http://www.w3.org/2000/svg\" height=\"24px\"viewBox=\"0 0 24 24\"\n",
              "       width=\"24px\">\n",
              "    <path d=\"M0 0h24v24H0V0z\" fill=\"none\"/>\n",
              "    <path d=\"M18.56 5.44l.94 2.06.94-2.06 2.06-.94-2.06-.94-.94-2.06-.94 2.06-2.06.94zm-11 1L8.5 8.5l.94-2.06 2.06-.94-2.06-.94L8.5 2.5l-.94 2.06-2.06.94zm10 10l.94 2.06.94-2.06 2.06-.94-2.06-.94-.94-2.06-.94 2.06-2.06.94z\"/><path d=\"M17.41 7.96l-1.37-1.37c-.4-.4-.92-.59-1.43-.59-.52 0-1.04.2-1.43.59L10.3 9.45l-7.72 7.72c-.78.78-.78 2.05 0 2.83L4 21.41c.39.39.9.59 1.41.59.51 0 1.02-.2 1.41-.59l7.78-7.78 2.81-2.81c.8-.78.8-2.07 0-2.86zM5.41 20L4 18.59l7.72-7.72 1.47 1.35L5.41 20z\"/>\n",
              "  </svg>\n",
              "      </button>\n",
              "      \n",
              "  <style>\n",
              "    .colab-df-container {\n",
              "      display:flex;\n",
              "      flex-wrap:wrap;\n",
              "      gap: 12px;\n",
              "    }\n",
              "\n",
              "    .colab-df-convert {\n",
              "      background-color: #E8F0FE;\n",
              "      border: none;\n",
              "      border-radius: 50%;\n",
              "      cursor: pointer;\n",
              "      display: none;\n",
              "      fill: #1967D2;\n",
              "      height: 32px;\n",
              "      padding: 0 0 0 0;\n",
              "      width: 32px;\n",
              "    }\n",
              "\n",
              "    .colab-df-convert:hover {\n",
              "      background-color: #E2EBFA;\n",
              "      box-shadow: 0px 1px 2px rgba(60, 64, 67, 0.3), 0px 1px 3px 1px rgba(60, 64, 67, 0.15);\n",
              "      fill: #174EA6;\n",
              "    }\n",
              "\n",
              "    [theme=dark] .colab-df-convert {\n",
              "      background-color: #3B4455;\n",
              "      fill: #D2E3FC;\n",
              "    }\n",
              "\n",
              "    [theme=dark] .colab-df-convert:hover {\n",
              "      background-color: #434B5C;\n",
              "      box-shadow: 0px 1px 3px 1px rgba(0, 0, 0, 0.15);\n",
              "      filter: drop-shadow(0px 1px 2px rgba(0, 0, 0, 0.3));\n",
              "      fill: #FFFFFF;\n",
              "    }\n",
              "  </style>\n",
              "\n",
              "      <script>\n",
              "        const buttonEl =\n",
              "          document.querySelector('#df-f6498919-60f1-41a6-9e63-6cf2d2587a63 button.colab-df-convert');\n",
              "        buttonEl.style.display =\n",
              "          google.colab.kernel.accessAllowed ? 'block' : 'none';\n",
              "\n",
              "        async function convertToInteractive(key) {\n",
              "          const element = document.querySelector('#df-f6498919-60f1-41a6-9e63-6cf2d2587a63');\n",
              "          const dataTable =\n",
              "            await google.colab.kernel.invokeFunction('convertToInteractive',\n",
              "                                                     [key], {});\n",
              "          if (!dataTable) return;\n",
              "\n",
              "          const docLinkHtml = 'Like what you see? Visit the ' +\n",
              "            '<a target=\"_blank\" href=https://colab.research.google.com/notebooks/data_table.ipynb>data table notebook</a>'\n",
              "            + ' to learn more about interactive tables.';\n",
              "          element.innerHTML = '';\n",
              "          dataTable['output_type'] = 'display_data';\n",
              "          await google.colab.output.renderOutput(dataTable, element);\n",
              "          const docLink = document.createElement('div');\n",
              "          docLink.innerHTML = docLinkHtml;\n",
              "          element.appendChild(docLink);\n",
              "        }\n",
              "      </script>\n",
              "    </div>\n",
              "  </div>\n",
              "  "
            ]
          },
          "metadata": {},
          "execution_count": 42
        }
      ],
      "source": [
        "df_copy"
      ]
    },
    {
      "cell_type": "markdown",
      "metadata": {
        "id": "ZEOcTJV9Syym"
      },
      "source": [
        "## Modeling"
      ]
    },
    {
      "cell_type": "markdown",
      "metadata": {
        "id": "86KQktzjS0h0"
      },
      "source": [
        "**PCA untuk Mereduksi Dimensi**"
      ]
    },
    {
      "cell_type": "code",
      "execution_count": null,
      "metadata": {
        "colab": {
          "base_uri": "https://localhost:8080/"
        },
        "id": "8ikGNmpvsddM",
        "outputId": "e75d8a1d-4c0b-4816-9e31-57c335ff6238"
      },
      "outputs": [
        {
          "output_type": "stream",
          "name": "stdout",
          "text": [
            "<class 'pandas.core.frame.DataFrame'>\n",
            "RangeIndex: 1534 entries, 0 to 1533\n",
            "Data columns (total 12 columns):\n",
            " #   Column            Non-Null Count  Dtype  \n",
            "---  ------            --------------  -----  \n",
            " 0   Education         1534 non-null   object \n",
            " 1   Marital_Status    1534 non-null   object \n",
            " 2   Income            1534 non-null   float64\n",
            " 3   Recency           1534 non-null   int64  \n",
            " 4   Complain          1534 non-null   int64  \n",
            " 5   Response          1534 non-null   int64  \n",
            " 6   Age               1534 non-null   int64  \n",
            " 7   Children          1534 non-null   int64  \n",
            " 8   Spent             1534 non-null   int64  \n",
            " 9   TotalAcceptedCmp  1534 non-null   int64  \n",
            " 10  TotalPurchases    1534 non-null   int64  \n",
            " 11  Savings           1534 non-null   float64\n",
            "dtypes: float64(2), int64(8), object(2)\n",
            "memory usage: 143.9+ KB\n"
          ]
        }
      ],
      "source": [
        "df.info()"
      ]
    },
    {
      "cell_type": "code",
      "execution_count": null,
      "metadata": {
        "colab": {
          "base_uri": "https://localhost:8080/",
          "height": 586
        },
        "id": "H0TMINEOSjla",
        "outputId": "d2681ae3-5c35-4469-94e5-d390659004d7"
      },
      "outputs": [
        {
          "output_type": "execute_result",
          "data": {
            "text/plain": [
              "<matplotlib.axes._subplots.AxesSubplot at 0x7f298e213450>"
            ]
          },
          "metadata": {},
          "execution_count": 44
        },
        {
          "output_type": "display_data",
          "data": {
            "text/plain": [
              "<Figure size 1008x576 with 2 Axes>"
            ],
            "image/png": "[encoded data removed]"
          },
          "metadata": {
            "needs_background": "light"
          }
        }
      ],
      "source": [
        "#Melihat persebaran korelasi antara berbagai fitur dengan menggunakan heatmap\n",
        "fig, ax = plt.subplots(figsize=(14,8))         \n",
        "sns.heatmap(df.corr(),\n",
        "            cmap= sns.color_palette(\"RdPu\", 10),\n",
        "            ax=ax)"
      ]
    },
    {
      "cell_type": "code",
      "execution_count": null,
      "metadata": {
        "colab": {
          "base_uri": "https://localhost:8080/"
        },
        "id": "Am7zhgdCS-N9",
        "outputId": "88dd4a73-29d5-42a1-a072-0fe230925007"
      },
      "outputs": [
        {
          "output_type": "stream",
          "name": "stdout",
          "text": [
            "Current number of features=  4\n"
          ]
        }
      ],
      "source": [
        "#Melakukan PCA\n",
        "pca = PCA(n_components = 0.75)\n",
        "pca.fit(df_copy)\n",
        "reduced_df= pd.DataFrame(pca.transform(df_copy))\n",
        "\n",
        "print(\"Current number of features= \",len(reduced_df.columns))"
      ]
    },
    {
      "cell_type": "markdown",
      "metadata": {
        "id": "2U-_sFdSTM_5"
      },
      "source": [
        "**Mencari Nilai klustering terbaik**"
      ]
    },
    {
      "cell_type": "code",
      "execution_count": null,
      "metadata": {
        "colab": {
          "base_uri": "https://localhost:8080/",
          "height": 502
        },
        "id": "rbFL7JKNTECs",
        "outputId": "214401a8-fd7d-484f-84a3-d9f192ae5bb6"
      },
      "outputs": [
        {
          "output_type": "display_data",
          "data": {
            "text/plain": [
              "<Figure size 1008x576 with 1 Axes>"
            ],
            "image/png": "[encoded data removed]"
          },
          "metadata": {
            "needs_background": "light"
          }
        }
      ],
      "source": [
        "plt.figure(figsize = (14,8))\n",
        "\n",
        "kmeans_per_k = [KMeans(n_clusters=k, random_state=42).fit(reduced_df)\n",
        "                for k in range(1, 10)]\n",
        "inertias = [model.inertia_ for model in kmeans_per_k]\n",
        "plt.plot(range(1, 10), inertias, \"bo-\" ,color= colors_nude[0])\n",
        "plt.xlabel(\"$k$\", fontsize=14)\n",
        "plt.ylabel(\"Inertia\", fontsize=14)\n",
        "\n",
        "plt.show()"
      ]
    },
    {
      "cell_type": "code",
      "execution_count": null,
      "metadata": {
        "colab": {
          "base_uri": "https://localhost:8080/",
          "height": 502
        },
        "id": "VGyHux1cTUnX",
        "outputId": "8de2bc8f-7a39-4238-ec74-2ebe5095277b"
      },
      "outputs": [
        {
          "output_type": "display_data",
          "data": {
            "text/plain": [
              "<Figure size 1008x576 with 1 Axes>"
            ],
            "image/png": "[encoded data removed]"
          },
          "metadata": {
            "needs_background": "light"
          }
        }
      ],
      "source": [
        "plt.figure(figsize = (14,8) )\n",
        "from sklearn.metrics import silhouette_score\n",
        "silhouette_scores = [silhouette_score(reduced_df, model.labels_)\n",
        "                     for model in kmeans_per_k[1:]]\n",
        "plt.plot(range(2, 10), silhouette_scores, \"bo-\" ,color=colors_nude[0])\n",
        "plt.xlabel(\"$k$\", fontsize=14)\n",
        "plt.ylabel(\"Silhouette score\", fontsize=14)\n",
        "plt.show()"
      ]
    },
    {
      "cell_type": "code",
      "execution_count": null,
      "metadata": {
        "colab": {
          "base_uri": "https://localhost:8080/",
          "height": 296
        },
        "id": "bh-RWhGNTYf6",
        "outputId": "f41aca97-4a00-48ae-ff0f-a43586bffdf3"
      },
      "outputs": [
        {
          "output_type": "execute_result",
          "data": {
            "text/plain": [
              "<matplotlib.axes._subplots.AxesSubplot at 0x7f29897481d0>"
            ]
          },
          "metadata": {},
          "execution_count": 48
        },
        {
          "output_type": "display_data",
          "data": {
            "text/plain": [
              "<Figure size 432x288 with 1 Axes>"
            ],
            "image/png": "[encoded data removed]"
          },
          "metadata": {
            "needs_background": "light"
          }
        }
      ],
      "source": [
        "clusters = KMeans(n_clusters=3, random_state=42).fit(reduced_df)\n",
        "df[\"Personality\"]= clusters.labels_\n",
        "colors = sns.color_palette('pastel')[0:5]\n",
        "sns.countplot(df['Personality'], palette=colors)"
      ]
    },
    {
      "cell_type": "code",
      "execution_count": null,
      "metadata": {
        "colab": {
          "base_uri": "https://localhost:8080/",
          "height": 337
        },
        "id": "jjjb5N8PThIu",
        "outputId": "7becc4a1-63e6-4875-babf-e432e02c544b"
      },
      "outputs": [
        {
          "output_type": "execute_result",
          "data": {
            "text/plain": [
              "       Education Marital_Status   Income  Recency  Complain  Response  Age  \\\n",
              "0  Post Graduate         Single  46344.0       38         0         0   66   \n",
              "1  Post Graduate   Relationship  71613.0       26         0         0   55   \n",
              "2  Post Graduate   Relationship  26646.0       26         0         0   36   \n",
              "3  Post Graduate   Relationship  58293.0       94         0         0   39   \n",
              "4  Post Graduate   Relationship  62513.0       16         0         0   53   \n",
              "\n",
              "   Children  Spent  TotalAcceptedCmp  TotalPurchases  Savings  Personality  \n",
              "0         2     27                 0               6  46317.0            2  \n",
              "1         0    776                 0              21  70837.0            1  \n",
              "2         1     53                 0               8  26593.0            0  \n",
              "3         1    422                 0              19  57871.0            1  \n",
              "4         1    716                 0              22  61797.0            1  "
            ],
            "text/html": [
              "\n",
              "  <div id=\"df-c63f6f08-bd9a-480d-bf2a-63fcafa65d6a\">\n",
              "    <div class=\"colab-df-container\">\n",
              "      <div>\n",
              "<style scoped>\n",
              "    .dataframe tbody tr th:only-of-type {\n",
              "        vertical-align: middle;\n",
              "    }\n",
              "\n",
              "    .dataframe tbody tr th {\n",
              "        vertical-align: top;\n",
              "    }\n",
              "\n",
              "    .dataframe thead th {\n",
              "        text-align: right;\n",
              "    }\n",
              "</style>\n",
              "<table border=\"1\" class=\"dataframe\">\n",
              "  <thead>\n",
              "    <tr style=\"text-align: right;\">\n",
              "      <th></th>\n",
              "      <th>Education</th>\n",
              "      <th>Marital_Status</th>\n",
              "      <th>Income</th>\n",
              "      <th>Recency</th>\n",
              "      <th>Complain</th>\n",
              "      <th>Response</th>\n",
              "      <th>Age</th>\n",
              "      <th>Children</th>\n",
              "      <th>Spent</th>\n",
              "      <th>TotalAcceptedCmp</th>\n",
              "      <th>TotalPurchases</th>\n",
              "      <th>Savings</th>\n",
              "      <th>Personality</th>\n",
              "    </tr>\n",
              "  </thead>\n",
              "  <tbody>\n",
              "    <tr>\n",
              "      <th>0</th>\n",
              "      <td>Post Graduate</td>\n",
              "      <td>Single</td>\n",
              "      <td>46344.0</td>\n",
              "      <td>38</td>\n",
              "      <td>0</td>\n",
              "      <td>0</td>\n",
              "      <td>66</td>\n",
              "      <td>2</td>\n",
              "      <td>27</td>\n",
              "      <td>0</td>\n",
              "      <td>6</td>\n",
              "      <td>46317.0</td>\n",
              "      <td>2</td>\n",
              "    </tr>\n",
              "    <tr>\n",
              "      <th>1</th>\n",
              "      <td>Post Graduate</td>\n",
              "      <td>Relationship</td>\n",
              "      <td>71613.0</td>\n",
              "      <td>26</td>\n",
              "      <td>0</td>\n",
              "      <td>0</td>\n",
              "      <td>55</td>\n",
              "      <td>0</td>\n",
              "      <td>776</td>\n",
              "      <td>0</td>\n",
              "      <td>21</td>\n",
              "      <td>70837.0</td>\n",
              "      <td>1</td>\n",
              "    </tr>\n",
              "    <tr>\n",
              "      <th>2</th>\n",
              "      <td>Post Graduate</td>\n",
              "      <td>Relationship</td>\n",
              "      <td>26646.0</td>\n",
              "      <td>26</td>\n",
              "      <td>0</td>\n",
              "      <td>0</td>\n",
              "      <td>36</td>\n",
              "      <td>1</td>\n",
              "      <td>53</td>\n",
              "      <td>0</td>\n",
              "      <td>8</td>\n",
              "      <td>26593.0</td>\n",
              "      <td>0</td>\n",
              "    </tr>\n",
              "    <tr>\n",
              "      <th>3</th>\n",
              "      <td>Post Graduate</td>\n",
              "      <td>Relationship</td>\n",
              "      <td>58293.0</td>\n",
              "      <td>94</td>\n",
              "      <td>0</td>\n",
              "      <td>0</td>\n",
              "      <td>39</td>\n",
              "      <td>1</td>\n",
              "      <td>422</td>\n",
              "      <td>0</td>\n",
              "      <td>19</td>\n",
              "      <td>57871.0</td>\n",
              "      <td>1</td>\n",
              "    </tr>\n",
              "    <tr>\n",
              "      <th>4</th>\n",
              "      <td>Post Graduate</td>\n",
              "      <td>Relationship</td>\n",
              "      <td>62513.0</td>\n",
              "      <td>16</td>\n",
              "      <td>0</td>\n",
              "      <td>0</td>\n",
              "      <td>53</td>\n",
              "      <td>1</td>\n",
              "      <td>716</td>\n",
              "      <td>0</td>\n",
              "      <td>22</td>\n",
              "      <td>61797.0</td>\n",
              "      <td>1</td>\n",
              "    </tr>\n",
              "  </tbody>\n",
              "</table>\n",
              "</div>\n",
              "      <button class=\"colab-df-convert\" onclick=\"convertToInteractive('df-c63f6f08-bd9a-480d-bf2a-63fcafa65d6a')\"\n",
              "              title=\"Convert this dataframe to an interactive table.\"\n",
              "              style=\"display:none;\">\n",
              "        \n",
              "  <svg xmlns=\"http://www.w3.org/2000/svg\" height=\"24px\"viewBox=\"0 0 24 24\"\n",
              "       width=\"24px\">\n",
              "    <path d=\"M0 0h24v24H0V0z\" fill=\"none\"/>\n",
              "    <path d=\"M18.56 5.44l.94 2.06.94-2.06 2.06-.94-2.06-.94-.94-2.06-.94 2.06-2.06.94zm-11 1L8.5 8.5l.94-2.06 2.06-.94-2.06-.94L8.5 2.5l-.94 2.06-2.06.94zm10 10l.94 2.06.94-2.06 2.06-.94-2.06-.94-.94-2.06-.94 2.06-2.06.94z\"/><path d=\"M17.41 7.96l-1.37-1.37c-.4-.4-.92-.59-1.43-.59-.52 0-1.04.2-1.43.59L10.3 9.45l-7.72 7.72c-.78.78-.78 2.05 0 2.83L4 21.41c.39.39.9.59 1.41.59.51 0 1.02-.2 1.41-.59l7.78-7.78 2.81-2.81c.8-.78.8-2.07 0-2.86zM5.41 20L4 18.59l7.72-7.72 1.47 1.35L5.41 20z\"/>\n",
              "  </svg>\n",
              "      </button>\n",
              "      \n",
              "  <style>\n",
              "    .colab-df-container {\n",
              "      display:flex;\n",
              "      flex-wrap:wrap;\n",
              "      gap: 12px;\n",
              "    }\n",
              "\n",
              "    .colab-df-convert {\n",
              "      background-color: #E8F0FE;\n",
              "      border: none;\n",
              "      border-radius: 50%;\n",
              "      cursor: pointer;\n",
              "      display: none;\n",
              "      fill: #1967D2;\n",
              "      height: 32px;\n",
              "      padding: 0 0 0 0;\n",
              "      width: 32px;\n",
              "    }\n",
              "\n",
              "    .colab-df-convert:hover {\n",
              "      background-color: #E2EBFA;\n",
              "      box-shadow: 0px 1px 2px rgba(60, 64, 67, 0.3), 0px 1px 3px 1px rgba(60, 64, 67, 0.15);\n",
              "      fill: #174EA6;\n",
              "    }\n",
              "\n",
              "    [theme=dark] .colab-df-convert {\n",
              "      background-color: #3B4455;\n",
              "      fill: #D2E3FC;\n",
              "    }\n",
              "\n",
              "    [theme=dark] .colab-df-convert:hover {\n",
              "      background-color: #434B5C;\n",
              "      box-shadow: 0px 1px 3px 1px rgba(0, 0, 0, 0.15);\n",
              "      filter: drop-shadow(0px 1px 2px rgba(0, 0, 0, 0.3));\n",
              "      fill: #FFFFFF;\n",
              "    }\n",
              "  </style>\n",
              "\n",
              "      <script>\n",
              "        const buttonEl =\n",
              "          document.querySelector('#df-c63f6f08-bd9a-480d-bf2a-63fcafa65d6a button.colab-df-convert');\n",
              "        buttonEl.style.display =\n",
              "          google.colab.kernel.accessAllowed ? 'block' : 'none';\n",
              "\n",
              "        async function convertToInteractive(key) {\n",
              "          const element = document.querySelector('#df-c63f6f08-bd9a-480d-bf2a-63fcafa65d6a');\n",
              "          const dataTable =\n",
              "            await google.colab.kernel.invokeFunction('convertToInteractive',\n",
              "                                                     [key], {});\n",
              "          if (!dataTable) return;\n",
              "\n",
              "          const docLinkHtml = 'Like what you see? Visit the ' +\n",
              "            '<a target=\"_blank\" href=https://colab.research.google.com/notebooks/data_table.ipynb>data table notebook</a>'\n",
              "            + ' to learn more about interactive tables.';\n",
              "          element.innerHTML = '';\n",
              "          dataTable['output_type'] = 'display_data';\n",
              "          await google.colab.output.renderOutput(dataTable, element);\n",
              "          const docLink = document.createElement('div');\n",
              "          docLink.innerHTML = docLinkHtml;\n",
              "          element.appendChild(docLink);\n",
              "        }\n",
              "      </script>\n",
              "    </div>\n",
              "  </div>\n",
              "  "
            ]
          },
          "metadata": {},
          "execution_count": 49
        }
      ],
      "source": [
        "df.head()"
      ]
    },
    {
      "cell_type": "markdown",
      "metadata": {
        "id": "pAI4B7FApp3P"
      },
      "source": [
        "## Evaluation\n",
        "\n",
        "Atribut yang di evaluasi:\n",
        "1. Umur\n",
        "2. Jumlah anak\n",
        "3. Income\n",
        "4. Pengeluaran(Spending)\n",
        "5. Status Pernikahan\n",
        "6. Edukasi"
      ]
    },
    {
      "cell_type": "code",
      "execution_count": null,
      "metadata": {
        "colab": {
          "base_uri": "https://localhost:8080/"
        },
        "id": "HXzz-NqAu_OC",
        "outputId": "ad13bf4a-e3d9-4b0c-8920-4b3997570aa7"
      },
      "outputs": [
        {
          "output_type": "execute_result",
          "data": {
            "text/plain": [
              "0    571\n",
              "2    552\n",
              "1    411\n",
              "Name: Personality, dtype: int64"
            ]
          },
          "metadata": {},
          "execution_count": 50
        }
      ],
      "source": [
        "df['Personality'].value_counts()"
      ]
    },
    {
      "cell_type": "code",
      "execution_count": null,
      "metadata": {
        "colab": {
          "base_uri": "https://localhost:8080/",
          "height": 484
        },
        "id": "6FEr7Ox-p0ff",
        "outputId": "bf128e9e-2bcb-424a-be75-e6366409fe23"
      },
      "outputs": [
        {
          "output_type": "display_data",
          "data": {
            "text/plain": [
              "<Figure size 1008x576 with 1 Axes>"
            ],
            "image/png": "[encoded data removed]"
          },
          "metadata": {}
        }
      ],
      "source": [
        "# Perbandingan antar cluster Personality\n",
        "colors = sns.color_palette('pastel')[0:5]\n",
        "plt.figure(figsize = (14,8) )\n",
        "plt.pie(list(df['Personality'].value_counts()),labels=['Personality 2', 'Personality 0', 'Personality 1'],autopct='%.00f%%', startangle=90, explode =(0.01,0,0), colors=colors)\n",
        "plt.title('The Percentage Of Each Cluster ' ,fontsize = 15)\n",
        "plt.axis('equal')\n",
        "plt.show()"
      ]
    },
    {
      "cell_type": "code",
      "execution_count": null,
      "metadata": {
        "colab": {
          "base_uri": "https://localhost:8080/",
          "height": 515
        },
        "id": "tWP0uAYyvlaO",
        "outputId": "86a4fe6d-c837-4d20-e61b-05fc209bccf6"
      },
      "outputs": [
        {
          "output_type": "display_data",
          "data": {
            "text/plain": [
              "<Figure size 1008x576 with 1 Axes>"
            ],
            "image/png": "[encoded data removed]"
          },
          "metadata": {
            "needs_background": "light"
          }
        }
      ],
      "source": [
        "# Perbandingan umur antar personality\n",
        "hue_colors = {0:'red', 1:'green', 2:'blue'}\n",
        "plt.figure(figsize = (14,8) )\n",
        "sns.kdeplot(data =df, x = 'Age' , hue = 'Personality', palette=hue_colors)\n",
        "plt.title('Age Distribution' ,fontsize = 15)\n",
        "plt.show()"
      ]
    },
    {
      "cell_type": "code",
      "execution_count": null,
      "metadata": {
        "colab": {
          "base_uri": "https://localhost:8080/"
        },
        "id": "Z3DBFxDGwC3k",
        "outputId": "67c6666f-a269-4b73-a33e-712faa4ee078"
      },
      "outputs": [
        {
          "output_type": "stream",
          "name": "stdout",
          "text": [
            "percentage of customer more than 45 at K0 : 0.34%\n",
            "percentage of customer more than 45 at K1 : 0.77%\n",
            "percentage of customer more than 45 at K2 : 0.86%\n"
          ]
        }
      ],
      "source": [
        "# Rasio umur pada tiap cluster personality > 45\n",
        "k0 = df[(df['Age'] > 45 )&(df['Personality'] == 0)]\n",
        "k1 = df[(df['Age'] > 45 )&(df['Personality'] == 1)]\n",
        "k2 = df[(df['Age'] > 45 )&(df['Personality'] == 2)]\n",
        "print('percentage of customer more than 45 at K0 : {0:0.2f}%'.format(len(k0) / len(df[df['Personality'] == 0])))\n",
        "print('percentage of customer more than 45 at K1 : {0:0.2f}%'.format(len(k1) / len(df[df['Personality'] == 1])))\n",
        "print('percentage of customer more than 45 at K2 : {0:0.2f}%'.format(len(k2) / len(df[df['Personality'] == 2])))"
      ]
    },
    {
      "cell_type": "code",
      "execution_count": null,
      "metadata": {
        "colab": {
          "base_uri": "https://localhost:8080/",
          "height": 515
        },
        "id": "wMd9H0R3wYdq",
        "outputId": "8becd9cc-96f0-4031-9599-5d8a121cf3a2"
      },
      "outputs": [
        {
          "output_type": "display_data",
          "data": {
            "text/plain": [
              "<Figure size 1008x576 with 1 Axes>"
            ],
            "image/png": "[encoded data removed]"
          },
          "metadata": {
            "needs_background": "light"
          }
        }
      ],
      "source": [
        "# Perbandingan income antar personality\n",
        "plt.figure(figsize = (14,8) )\n",
        "sns.kdeplot(data =df, x = 'Income' , hue = 'Personality', palette=hue_colors)\n",
        "plt.title('Income Distribution' ,fontsize = 15)\n",
        "plt.show()"
      ]
    },
    {
      "cell_type": "code",
      "execution_count": null,
      "metadata": {
        "colab": {
          "base_uri": "https://localhost:8080/",
          "height": 175
        },
        "id": "N6d3THhHw2zV",
        "outputId": "97f7b853-2660-4b43-c342-497cd4b65371"
      },
      "outputs": [
        {
          "output_type": "execute_result",
          "data": {
            "text/plain": [
              "             count          mean          std      min      25%      50%  \\\n",
              "Personality                                                                \n",
              "0            571.0  28341.461471  9159.971430   5305.0  22115.5  28389.0   \n",
              "1            411.0  64491.565693  9939.261969  40464.0  57354.0  63972.0   \n",
              "2            552.0  43723.120471  9448.069655   8820.0  37274.0  44462.0   \n",
              "\n",
              "                 75%      max  \n",
              "Personality                    \n",
              "0            34733.0  51381.5  \n",
              "1            70483.0  90933.0  \n",
              "2            50439.5  68274.0  "
            ],
            "text/html": [
              "\n",
              "  <div id=\"df-f4abe944-40e3-40d4-adc3-8969ba4fa86a\">\n",
              "    <div class=\"colab-df-container\">\n",
              "      <div>\n",
              "<style scoped>\n",
              "    .dataframe tbody tr th:only-of-type {\n",
              "        vertical-align: middle;\n",
              "    }\n",
              "\n",
              "    .dataframe tbody tr th {\n",
              "        vertical-align: top;\n",
              "    }\n",
              "\n",
              "    .dataframe thead th {\n",
              "        text-align: right;\n",
              "    }\n",
              "</style>\n",
              "<table border=\"1\" class=\"dataframe\">\n",
              "  <thead>\n",
              "    <tr style=\"text-align: right;\">\n",
              "      <th></th>\n",
              "      <th>count</th>\n",
              "      <th>mean</th>\n",
              "      <th>std</th>\n",
              "      <th>min</th>\n",
              "      <th>25%</th>\n",
              "      <th>50%</th>\n",
              "      <th>75%</th>\n",
              "      <th>max</th>\n",
              "    </tr>\n",
              "    <tr>\n",
              "      <th>Personality</th>\n",
              "      <th></th>\n",
              "      <th></th>\n",
              "      <th></th>\n",
              "      <th></th>\n",
              "      <th></th>\n",
              "      <th></th>\n",
              "      <th></th>\n",
              "      <th></th>\n",
              "    </tr>\n",
              "  </thead>\n",
              "  <tbody>\n",
              "    <tr>\n",
              "      <th>0</th>\n",
              "      <td>571.0</td>\n",
              "      <td>28341.461471</td>\n",
              "      <td>9159.971430</td>\n",
              "      <td>5305.0</td>\n",
              "      <td>22115.5</td>\n",
              "      <td>28389.0</td>\n",
              "      <td>34733.0</td>\n",
              "      <td>51381.5</td>\n",
              "    </tr>\n",
              "    <tr>\n",
              "      <th>1</th>\n",
              "      <td>411.0</td>\n",
              "      <td>64491.565693</td>\n",
              "      <td>9939.261969</td>\n",
              "      <td>40464.0</td>\n",
              "      <td>57354.0</td>\n",
              "      <td>63972.0</td>\n",
              "      <td>70483.0</td>\n",
              "      <td>90933.0</td>\n",
              "    </tr>\n",
              "    <tr>\n",
              "      <th>2</th>\n",
              "      <td>552.0</td>\n",
              "      <td>43723.120471</td>\n",
              "      <td>9448.069655</td>\n",
              "      <td>8820.0</td>\n",
              "      <td>37274.0</td>\n",
              "      <td>44462.0</td>\n",
              "      <td>50439.5</td>\n",
              "      <td>68274.0</td>\n",
              "    </tr>\n",
              "  </tbody>\n",
              "</table>\n",
              "</div>\n",
              "      <button class=\"colab-df-convert\" onclick=\"convertToInteractive('df-f4abe944-40e3-40d4-adc3-8969ba4fa86a')\"\n",
              "              title=\"Convert this dataframe to an interactive table.\"\n",
              "              style=\"display:none;\">\n",
              "        \n",
              "  <svg xmlns=\"http://www.w3.org/2000/svg\" height=\"24px\"viewBox=\"0 0 24 24\"\n",
              "       width=\"24px\">\n",
              "    <path d=\"M0 0h24v24H0V0z\" fill=\"none\"/>\n",
              "    <path d=\"M18.56 5.44l.94 2.06.94-2.06 2.06-.94-2.06-.94-.94-2.06-.94 2.06-2.06.94zm-11 1L8.5 8.5l.94-2.06 2.06-.94-2.06-.94L8.5 2.5l-.94 2.06-2.06.94zm10 10l.94 2.06.94-2.06 2.06-.94-2.06-.94-.94-2.06-.94 2.06-2.06.94z\"/><path d=\"M17.41 7.96l-1.37-1.37c-.4-.4-.92-.59-1.43-.59-.52 0-1.04.2-1.43.59L10.3 9.45l-7.72 7.72c-.78.78-.78 2.05 0 2.83L4 21.41c.39.39.9.59 1.41.59.51 0 1.02-.2 1.41-.59l7.78-7.78 2.81-2.81c.8-.78.8-2.07 0-2.86zM5.41 20L4 18.59l7.72-7.72 1.47 1.35L5.41 20z\"/>\n",
              "  </svg>\n",
              "      </button>\n",
              "      \n",
              "  <style>\n",
              "    .colab-df-container {\n",
              "      display:flex;\n",
              "      flex-wrap:wrap;\n",
              "      gap: 12px;\n",
              "    }\n",
              "\n",
              "    .colab-df-convert {\n",
              "      background-color: #E8F0FE;\n",
              "      border: none;\n",
              "      border-radius: 50%;\n",
              "      cursor: pointer;\n",
              "      display: none;\n",
              "      fill: #1967D2;\n",
              "      height: 32px;\n",
              "      padding: 0 0 0 0;\n",
              "      width: 32px;\n",
              "    }\n",
              "\n",
              "    .colab-df-convert:hover {\n",
              "      background-color: #E2EBFA;\n",
              "      box-shadow: 0px 1px 2px rgba(60, 64, 67, 0.3), 0px 1px 3px 1px rgba(60, 64, 67, 0.15);\n",
              "      fill: #174EA6;\n",
              "    }\n",
              "\n",
              "    [theme=dark] .colab-df-convert {\n",
              "      background-color: #3B4455;\n",
              "      fill: #D2E3FC;\n",
              "    }\n",
              "\n",
              "    [theme=dark] .colab-df-convert:hover {\n",
              "      background-color: #434B5C;\n",
              "      box-shadow: 0px 1px 3px 1px rgba(0, 0, 0, 0.15);\n",
              "      filter: drop-shadow(0px 1px 2px rgba(0, 0, 0, 0.3));\n",
              "      fill: #FFFFFF;\n",
              "    }\n",
              "  </style>\n",
              "\n",
              "      <script>\n",
              "        const buttonEl =\n",
              "          document.querySelector('#df-f4abe944-40e3-40d4-adc3-8969ba4fa86a button.colab-df-convert');\n",
              "        buttonEl.style.display =\n",
              "          google.colab.kernel.accessAllowed ? 'block' : 'none';\n",
              "\n",
              "        async function convertToInteractive(key) {\n",
              "          const element = document.querySelector('#df-f4abe944-40e3-40d4-adc3-8969ba4fa86a');\n",
              "          const dataTable =\n",
              "            await google.colab.kernel.invokeFunction('convertToInteractive',\n",
              "                                                     [key], {});\n",
              "          if (!dataTable) return;\n",
              "\n",
              "          const docLinkHtml = 'Like what you see? Visit the ' +\n",
              "            '<a target=\"_blank\" href=https://colab.research.google.com/notebooks/data_table.ipynb>data table notebook</a>'\n",
              "            + ' to learn more about interactive tables.';\n",
              "          element.innerHTML = '';\n",
              "          dataTable['output_type'] = 'display_data';\n",
              "          await google.colab.output.renderOutput(dataTable, element);\n",
              "          const docLink = document.createElement('div');\n",
              "          docLink.innerHTML = docLinkHtml;\n",
              "          element.appendChild(docLink);\n",
              "        }\n",
              "      </script>\n",
              "    </div>\n",
              "  </div>\n",
              "  "
            ]
          },
          "metadata": {},
          "execution_count": 55
        }
      ],
      "source": [
        "df.groupby(['Personality'])['Income'].describe()"
      ]
    },
    {
      "cell_type": "code",
      "source": [
        "# Perbandingan kampanye diterima antar personality\n",
        "colors = sns.color_palette('pastel')[0:5]\n",
        "plt.figure(figsize = (14,8) )\n",
        "sns.countplot(data =df, x = 'TotalAcceptedCmp' , hue = 'Personality', palette=colors)\n",
        "plt.title('TotalAcceptedCmp Distribution' ,fontsize = 15)\n",
        "plt.show()"
      ],
      "metadata": {
        "colab": {
          "base_uri": "https://localhost:8080/",
          "height": 515
        },
        "id": "Fzi87z7GmZ2a",
        "outputId": "c090a545-c422-4e1a-fa02-25da4fcd008b"
      },
      "execution_count": null,
      "outputs": [
        {
          "output_type": "display_data",
          "data": {
            "text/plain": [
              "<Figure size 1008x576 with 1 Axes>"
            ],
            "image/png": "[encoded data removed]"
          },
          "metadata": {
            "needs_background": "light"
          }
        }
      ]
    },
    {
      "cell_type": "code",
      "source": [
        "df.groupby(['Personality'])['TotalAcceptedCmp'].value_counts()"
      ],
      "metadata": {
        "colab": {
          "base_uri": "https://localhost:8080/"
        },
        "id": "S2yCKPqBmuZC",
        "outputId": "2a1d1830-831c-4777-b248-840e80efb179"
      },
      "execution_count": null,
      "outputs": [
        {
          "output_type": "execute_result",
          "data": {
            "text/plain": [
              "Personality  TotalAcceptedCmp\n",
              "0            0                   523\n",
              "             1                    47\n",
              "             2                     1\n",
              "1            0                   274\n",
              "             1                    97\n",
              "             2                    28\n",
              "             3                     9\n",
              "             4                     3\n",
              "2            0                   511\n",
              "             1                    39\n",
              "             2                     2\n",
              "Name: TotalAcceptedCmp, dtype: int64"
            ]
          },
          "metadata": {},
          "execution_count": 57
        }
      ]
    },
    {
      "cell_type": "code",
      "execution_count": null,
      "metadata": {
        "colab": {
          "base_uri": "https://localhost:8080/",
          "height": 516
        },
        "id": "GXxnL4OGgP8g",
        "outputId": "d5ba36d6-4b77-4283-e16f-24f570b941f3"
      },
      "outputs": [
        {
          "output_type": "display_data",
          "data": {
            "text/plain": [
              "<Figure size 1008x576 with 1 Axes>"
            ],
            "image/png": "[encoded data removed]"
          },
          "metadata": {
            "needs_background": "light"
          }
        }
      ],
      "source": [
        "# Perbandingan status pernikahan antar personality\n",
        "colors = sns.color_palette('pastel')[0:5]\n",
        "plt.figure(figsize = (14,8) )\n",
        "sns.countplot(data =df, x = 'Marital_Status' , hue = 'Personality', palette=colors)\n",
        "plt.title('Marital Status Distribution' ,fontsize = 15)\n",
        "plt.show()"
      ]
    },
    {
      "cell_type": "code",
      "execution_count": null,
      "metadata": {
        "colab": {
          "base_uri": "https://localhost:8080/"
        },
        "id": "yhvNsz6f0dJi",
        "outputId": "f036149c-bb43-45e0-f6d8-53fcdcc5c3d6"
      },
      "outputs": [
        {
          "output_type": "execute_result",
          "data": {
            "text/plain": [
              "Personality  Marital_Status\n",
              "0            Relationship      377\n",
              "             Single            194\n",
              "1            Relationship      268\n",
              "             Single            143\n",
              "2            Relationship      354\n",
              "             Single            198\n",
              "Name: Marital_Status, dtype: int64"
            ]
          },
          "metadata": {},
          "execution_count": 59
        }
      ],
      "source": [
        "df.groupby(['Personality'])['Marital_Status'].value_counts()"
      ]
    },
    {
      "cell_type": "code",
      "execution_count": null,
      "metadata": {
        "colab": {
          "base_uri": "https://localhost:8080/"
        },
        "id": "cJkgC9_KitIL",
        "outputId": "861b75e6-07ea-4145-8f20-1bd7e37c2f51"
      },
      "outputs": [
        {
          "output_type": "stream",
          "name": "stdout",
          "text": [
            "Probability of Marital Status Single at K0 is 0.13%\n",
            "Probability of Marital Status Single at K1 is 0.09%\n",
            "Probability of Marital Status Single at K2 is 0.13%\n",
            "Probability of Marital Status Relationship at K0 is 0.25%\n",
            "Probability of Marital Status Relationship at K1 is 0.17%\n",
            "Probability of Marital Status Relationship at K2 is 0.23%\n"
          ]
        }
      ],
      "source": [
        "k0_S = len(df[(df['Marital_Status'] == 'Single') &(df['Personality'] == 0)]) / len(df)\n",
        "k0_R = len(df[(df['Marital_Status'] == 'Relationship') &(df['Personality'] == 0)]) / len(df)\n",
        "k1_S = len(df[(df['Marital_Status'] == 'Single') &(df['Personality'] == 1)]) / len(df)\n",
        "k1_R = len(df[(df['Marital_Status'] == 'Relationship') &(df['Personality'] == 1)]) / len(df)\n",
        "k2_S = len(df[(df['Marital_Status'] == 'Single') &(df['Personality'] == 2)]) / len(df)\n",
        "k2_R = len(df[(df['Marital_Status'] == 'Relationship') &(df['Personality'] == 2)]) / len(df)\n",
        "print('Probability of Marital Status Single at K0 is {0:0.2f}%'.format(k0_S))\n",
        "print('Probability of Marital Status Single at K1 is {0:0.2f}%'.format(k1_S))\n",
        "print('Probability of Marital Status Single at K2 is {0:0.2f}%'.format(k2_S))\n",
        "print('Probability of Marital Status Relationship at K0 is {0:0.2f}%'.format(k0_R))\n",
        "print('Probability of Marital Status Relationship at K1 is {0:0.2f}%'.format(k1_R))\n",
        "print('Probability of Marital Status Relationship at K2 is {0:0.2f}%'.format(k2_R))"
      ]
    },
    {
      "cell_type": "code",
      "execution_count": null,
      "metadata": {
        "colab": {
          "base_uri": "https://localhost:8080/",
          "height": 515
        },
        "id": "kagbCV97xCsW",
        "outputId": "f3e7be02-1782-4609-bdf0-903986539544"
      },
      "outputs": [
        {
          "output_type": "display_data",
          "data": {
            "text/plain": [
              "<Figure size 1008x576 with 1 Axes>"
            ],
            "image/png": "[encoded data removed]"
          },
          "metadata": {
            "needs_background": "light"
          }
        }
      ],
      "source": [
        "# Perbandingan anak antar personality\n",
        "colors = sns.color_palette('pastel')[0:5]\n",
        "plt.figure(figsize = (14,8) )\n",
        "sns.countplot(data =df, x = 'Children' , hue = 'Personality', palette=colors)\n",
        "plt.title('Kids Distribution' ,fontsize = 15)\n",
        "plt.show()"
      ]
    },
    {
      "cell_type": "code",
      "execution_count": null,
      "metadata": {
        "colab": {
          "base_uri": "https://localhost:8080/"
        },
        "id": "6Y7RDw242Isd",
        "outputId": "28c42925-0823-4561-b8ea-375bb5258d48"
      },
      "outputs": [
        {
          "output_type": "execute_result",
          "data": {
            "text/plain": [
              "Personality  Children\n",
              "0            1           436\n",
              "             0           112\n",
              "             2            23\n",
              "1            1           266\n",
              "             0           113\n",
              "             2            31\n",
              "             3             1\n",
              "2            2           304\n",
              "             1           198\n",
              "             3            38\n",
              "             0            12\n",
              "Name: Children, dtype: int64"
            ]
          },
          "metadata": {},
          "execution_count": 62
        }
      ],
      "source": [
        "df.groupby(['Personality'])['Children'].value_counts()"
      ]
    },
    {
      "cell_type": "code",
      "execution_count": null,
      "metadata": {
        "colab": {
          "base_uri": "https://localhost:8080/"
        },
        "id": "dNUeGAMhxVCe",
        "outputId": "eb89cca8-8275-4627-e295-c473b4eafee5"
      },
      "outputs": [
        {
          "output_type": "stream",
          "name": "stdout",
          "text": [
            "Probability of having children at K0 is 0.30%\n",
            "Probability of having children at K1 is 0.19%\n",
            "Probability of having children at K2 is 0.35%\n"
          ]
        }
      ],
      "source": [
        "k0 = len(df[(df['Children'] > 0) &(df['Personality'] == 0)]) / len(df)\n",
        "k1 = len(df[(df['Children'] > 0) &(df['Personality'] == 1)]) / len(df)\n",
        "k2 = len(df[(df['Children'] > 0) &(df['Personality'] == 2)]) / len(df)\n",
        "print('Probability of having children at K0 is {0:0.2f}%'.format(k0))\n",
        "print('Probability of having children at K1 is {0:0.2f}%'.format(k1))\n",
        "print('Probability of having children at K2 is {0:0.2f}%'.format(k2))"
      ]
    },
    {
      "cell_type": "code",
      "execution_count": null,
      "metadata": {
        "colab": {
          "base_uri": "https://localhost:8080/",
          "height": 515
        },
        "id": "5MJVlsxvx7US",
        "outputId": "5e3e13c1-4538-4db7-9ab5-c80f9d9de5d0"
      },
      "outputs": [
        {
          "output_type": "display_data",
          "data": {
            "text/plain": [
              "<Figure size 1008x576 with 1 Axes>"
            ],
            "image/png": "[encoded data removed]"
          },
          "metadata": {
            "needs_background": "light"
          }
        }
      ],
      "source": [
        "# Perbandingan pengeluaran antar personality\n",
        "colors = sns.color_palette('pastel')[0:5]\n",
        "plt.figure(figsize = (14,8))\n",
        "sns.boxplot(data =df, x = 'Personality' , y = 'Spent' ,palette=colors)\n",
        "plt.title('Spending Distribution' ,fontsize = 15)\n",
        "plt.show()"
      ]
    },
    {
      "cell_type": "code",
      "execution_count": null,
      "metadata": {
        "colab": {
          "base_uri": "https://localhost:8080/",
          "height": 175
        },
        "id": "nAZ_Zd_I3zBt",
        "outputId": "4f5aef02-ff5e-4ace-a2b1-209002026770"
      },
      "outputs": [
        {
          "output_type": "execute_result",
          "data": {
            "text/plain": [
              "             count        mean         std    min     25%    50%     75%  \\\n",
              "Personality                                                                \n",
              "0            571.0   83.222417   84.499961   10.0   34.00   57.0    92.5   \n",
              "1            411.0  859.289538  338.790764  227.0  577.50  819.0  1091.5   \n",
              "2            552.0  162.463768  133.552217    8.0   48.75  116.5   263.0   \n",
              "\n",
              "                max  \n",
              "Personality          \n",
              "0             534.0  \n",
              "1            1835.0  \n",
              "2             637.0  "
            ],
            "text/html": [
              "\n",
              "  <div id=\"df-1d23f6e3-a3ae-43c1-99ff-6035e9addacf\">\n",
              "    <div class=\"colab-df-container\">\n",
              "      <div>\n",
              "<style scoped>\n",
              "    .dataframe tbody tr th:only-of-type {\n",
              "        vertical-align: middle;\n",
              "    }\n",
              "\n",
              "    .dataframe tbody tr th {\n",
              "        vertical-align: top;\n",
              "    }\n",
              "\n",
              "    .dataframe thead th {\n",
              "        text-align: right;\n",
              "    }\n",
              "</style>\n",
              "<table border=\"1\" class=\"dataframe\">\n",
              "  <thead>\n",
              "    <tr style=\"text-align: right;\">\n",
              "      <th></th>\n",
              "      <th>count</th>\n",
              "      <th>mean</th>\n",
              "      <th>std</th>\n",
              "      <th>min</th>\n",
              "      <th>25%</th>\n",
              "      <th>50%</th>\n",
              "      <th>75%</th>\n",
              "      <th>max</th>\n",
              "    </tr>\n",
              "    <tr>\n",
              "      <th>Personality</th>\n",
              "      <th></th>\n",
              "      <th></th>\n",
              "      <th></th>\n",
              "      <th></th>\n",
              "      <th></th>\n",
              "      <th></th>\n",
              "      <th></th>\n",
              "      <th></th>\n",
              "    </tr>\n",
              "  </thead>\n",
              "  <tbody>\n",
              "    <tr>\n",
              "      <th>0</th>\n",
              "      <td>571.0</td>\n",
              "      <td>83.222417</td>\n",
              "      <td>84.499961</td>\n",
              "      <td>10.0</td>\n",
              "      <td>34.00</td>\n",
              "      <td>57.0</td>\n",
              "      <td>92.5</td>\n",
              "      <td>534.0</td>\n",
              "    </tr>\n",
              "    <tr>\n",
              "      <th>1</th>\n",
              "      <td>411.0</td>\n",
              "      <td>859.289538</td>\n",
              "      <td>338.790764</td>\n",
              "      <td>227.0</td>\n",
              "      <td>577.50</td>\n",
              "      <td>819.0</td>\n",
              "      <td>1091.5</td>\n",
              "      <td>1835.0</td>\n",
              "    </tr>\n",
              "    <tr>\n",
              "      <th>2</th>\n",
              "      <td>552.0</td>\n",
              "      <td>162.463768</td>\n",
              "      <td>133.552217</td>\n",
              "      <td>8.0</td>\n",
              "      <td>48.75</td>\n",
              "      <td>116.5</td>\n",
              "      <td>263.0</td>\n",
              "      <td>637.0</td>\n",
              "    </tr>\n",
              "  </tbody>\n",
              "</table>\n",
              "</div>\n",
              "      <button class=\"colab-df-convert\" onclick=\"convertToInteractive('df-1d23f6e3-a3ae-43c1-99ff-6035e9addacf')\"\n",
              "              title=\"Convert this dataframe to an interactive table.\"\n",
              "              style=\"display:none;\">\n",
              "        \n",
              "  <svg xmlns=\"http://www.w3.org/2000/svg\" height=\"24px\"viewBox=\"0 0 24 24\"\n",
              "       width=\"24px\">\n",
              "    <path d=\"M0 0h24v24H0V0z\" fill=\"none\"/>\n",
              "    <path d=\"M18.56 5.44l.94 2.06.94-2.06 2.06-.94-2.06-.94-.94-2.06-.94 2.06-2.06.94zm-11 1L8.5 8.5l.94-2.06 2.06-.94-2.06-.94L8.5 2.5l-.94 2.06-2.06.94zm10 10l.94 2.06.94-2.06 2.06-.94-2.06-.94-.94-2.06-.94 2.06-2.06.94z\"/><path d=\"M17.41 7.96l-1.37-1.37c-.4-.4-.92-.59-1.43-.59-.52 0-1.04.2-1.43.59L10.3 9.45l-7.72 7.72c-.78.78-.78 2.05 0 2.83L4 21.41c.39.39.9.59 1.41.59.51 0 1.02-.2 1.41-.59l7.78-7.78 2.81-2.81c.8-.78.8-2.07 0-2.86zM5.41 20L4 18.59l7.72-7.72 1.47 1.35L5.41 20z\"/>\n",
              "  </svg>\n",
              "      </button>\n",
              "      \n",
              "  <style>\n",
              "    .colab-df-container {\n",
              "      display:flex;\n",
              "      flex-wrap:wrap;\n",
              "      gap: 12px;\n",
              "    }\n",
              "\n",
              "    .colab-df-convert {\n",
              "      background-color: #E8F0FE;\n",
              "      border: none;\n",
              "      border-radius: 50%;\n",
              "      cursor: pointer;\n",
              "      display: none;\n",
              "      fill: #1967D2;\n",
              "      height: 32px;\n",
              "      padding: 0 0 0 0;\n",
              "      width: 32px;\n",
              "    }\n",
              "\n",
              "    .colab-df-convert:hover {\n",
              "      background-color: #E2EBFA;\n",
              "      box-shadow: 0px 1px 2px rgba(60, 64, 67, 0.3), 0px 1px 3px 1px rgba(60, 64, 67, 0.15);\n",
              "      fill: #174EA6;\n",
              "    }\n",
              "\n",
              "    [theme=dark] .colab-df-convert {\n",
              "      background-color: #3B4455;\n",
              "      fill: #D2E3FC;\n",
              "    }\n",
              "\n",
              "    [theme=dark] .colab-df-convert:hover {\n",
              "      background-color: #434B5C;\n",
              "      box-shadow: 0px 1px 3px 1px rgba(0, 0, 0, 0.15);\n",
              "      filter: drop-shadow(0px 1px 2px rgba(0, 0, 0, 0.3));\n",
              "      fill: #FFFFFF;\n",
              "    }\n",
              "  </style>\n",
              "\n",
              "      <script>\n",
              "        const buttonEl =\n",
              "          document.querySelector('#df-1d23f6e3-a3ae-43c1-99ff-6035e9addacf button.colab-df-convert');\n",
              "        buttonEl.style.display =\n",
              "          google.colab.kernel.accessAllowed ? 'block' : 'none';\n",
              "\n",
              "        async function convertToInteractive(key) {\n",
              "          const element = document.querySelector('#df-1d23f6e3-a3ae-43c1-99ff-6035e9addacf');\n",
              "          const dataTable =\n",
              "            await google.colab.kernel.invokeFunction('convertToInteractive',\n",
              "                                                     [key], {});\n",
              "          if (!dataTable) return;\n",
              "\n",
              "          const docLinkHtml = 'Like what you see? Visit the ' +\n",
              "            '<a target=\"_blank\" href=https://colab.research.google.com/notebooks/data_table.ipynb>data table notebook</a>'\n",
              "            + ' to learn more about interactive tables.';\n",
              "          element.innerHTML = '';\n",
              "          dataTable['output_type'] = 'display_data';\n",
              "          await google.colab.output.renderOutput(dataTable, element);\n",
              "          const docLink = document.createElement('div');\n",
              "          docLink.innerHTML = docLinkHtml;\n",
              "          element.appendChild(docLink);\n",
              "        }\n",
              "      </script>\n",
              "    </div>\n",
              "  </div>\n",
              "  "
            ]
          },
          "metadata": {},
          "execution_count": 65
        }
      ],
      "source": [
        "df.groupby(['Personality'])['Spent'].describe()"
      ]
    },
    {
      "cell_type": "code",
      "execution_count": null,
      "metadata": {
        "colab": {
          "base_uri": "https://localhost:8080/",
          "height": 515
        },
        "id": "qbrInqCFomuC",
        "outputId": "4de19efb-5cd7-4231-b883-ac9506c8b22e"
      },
      "outputs": [
        {
          "output_type": "display_data",
          "data": {
            "text/plain": [
              "<Figure size 1008x576 with 1 Axes>"
            ],
            "image/png": "[encoded data removed]"
          },
          "metadata": {
            "needs_background": "light"
          }
        }
      ],
      "source": [
        "# Perbandingan status pernikahan antar personality\n",
        "colors = sns.color_palette('pastel')[0:5]\n",
        "plt.figure(figsize = (14,8) )\n",
        "sns.countplot(data =df, x = 'Education' , hue = 'Personality', palette=colors)\n",
        "plt.title('Education Distribution' ,fontsize = 15)\n",
        "plt.show()"
      ]
    },
    {
      "cell_type": "code",
      "execution_count": null,
      "metadata": {
        "colab": {
          "base_uri": "https://localhost:8080/"
        },
        "id": "jvmNNaNQ2_qL",
        "outputId": "a330144f-f9af-4548-d08e-8605de1fb778"
      },
      "outputs": [
        {
          "output_type": "execute_result",
          "data": {
            "text/plain": [
              "Personality  Education     \n",
              "0            Post Graduate     520\n",
              "             Under Graduate     51\n",
              "1            Post Graduate     411\n",
              "2            Post Graduate     551\n",
              "             Under Graduate      1\n",
              "Name: Education, dtype: int64"
            ]
          },
          "metadata": {},
          "execution_count": 67
        }
      ],
      "source": [
        "df.groupby(['Personality'])['Education'].value_counts()"
      ]
    },
    {
      "cell_type": "code",
      "source": [
        "# Perbandingan total purchases antar personality\n",
        "colors = sns.color_palette('pastel')[0:5]\n",
        "plt.figure(figsize = (14,8))\n",
        "sns.boxplot(data =df, x = 'Personality' , y = 'TotalPurchases' ,palette=colors)\n",
        "plt.title('Total Visits Distribution' ,fontsize = 15)\n",
        "plt.show()"
      ],
      "metadata": {
        "colab": {
          "base_uri": "https://localhost:8080/",
          "height": 515
        },
        "id": "ldYRwMCdqCZE",
        "outputId": "0b4b3c3e-061e-47ed-9784-a5d0ec0ee462"
      },
      "execution_count": null,
      "outputs": [
        {
          "output_type": "display_data",
          "data": {
            "text/plain": [
              "<Figure size 1008x576 with 1 Axes>"
            ],
            "image/png": "[encoded data removed]"
          },
          "metadata": {
            "needs_background": "light"
          }
        }
      ]
    },
    {
      "cell_type": "code",
      "execution_count": null,
      "metadata": {
        "colab": {
          "base_uri": "https://localhost:8080/"
        },
        "id": "T1ChYj6HkPZW",
        "outputId": "2c141317-bd0f-4985-afa1-22746ae80e22"
      },
      "outputs": [
        {
          "output_type": "stream",
          "name": "stdout",
          "text": [
            "Probability of Education Post Graduate at K0 is 0.34%\n",
            "Probability of Education Post Graduate at K1 is 0.27%\n",
            "Probability of Education Post Graduatee at K2 is 0.36%\n",
            "Probability of Education Under Graduate at K0 is 0.03%\n",
            "Probability of Education Under Graduate at K1 is 0.00%\n",
            "Probability of Education Under Graduate at K2 is 0.00%\n"
          ]
        }
      ],
      "source": [
        "k0_PG = len(df[(df['Education'] == 'Post Graduate') &(df['Personality'] == 0)]) / len(df)\n",
        "k0_UG = len(df[(df['Education'] == 'Under Graduate') &(df['Personality'] == 0)]) / len(df)\n",
        "k1_PG = len(df[(df['Education'] == 'Post Graduate') &(df['Personality'] == 1)]) / len(df)\n",
        "k1_UG = len(df[(df['Education'] == 'Under Graduate') &(df['Personality'] == 1)]) / len(df)\n",
        "k2_PG = len(df[(df['Education'] == 'Post Graduate') &(df['Personality'] == 2)]) / len(df)\n",
        "k2_UG = len(df[(df['Education'] == 'Under Graduate') &(df['Personality'] == 2)]) / len(df)\n",
        "print('Probability of Education Post Graduate at K0 is {0:0.2f}%'.format(k0_PG))\n",
        "print('Probability of Education Post Graduate at K1 is {0:0.2f}%'.format(k1_PG))\n",
        "print('Probability of Education Post Graduatee at K2 is {0:0.2f}%'.format(k2_PG))\n",
        "print('Probability of Education Under Graduate at K0 is {0:0.2f}%'.format(k0_UG))\n",
        "print('Probability of Education Under Graduate at K1 is {0:0.2f}%'.format(k1_UG))\n",
        "print('Probability of Education Under Graduate at K2 is {0:0.2f}%'.format(k2_UG))"
      ]
    },
    {
      "cell_type": "markdown",
      "metadata": {
        "id": "Hgr-8Z5UuYZG"
      },
      "source": [
        "Yang Perlu DItanyakan:\n",
        "1. 2n Cycle dan Graduation masuk mana\n",
        "2. jumlah cluster\n",
        "3. webpurchase apakah dimasukin"
      ]
    }
  ],
  "metadata": {
    "colab": {
      "collapsed_sections": [],
      "provenance": []
    },
    "kernelspec": {
      "display_name": "Python 3",
      "name": "python3"
    },
    "language_info": {
      "name": "python"
    }
  },
  "nbformat": 4,
  "nbformat_minor": 0
}